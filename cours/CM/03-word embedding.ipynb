{
 "cells": [
  {
   "metadata": {},
   "cell_type": "markdown",
   "source": [
    "# Word Embedding (Représentation vectorielle des mots)\n",
    "\n",
    "**Word Embedding** est une représentation des mots qui permet à des mots ayant un sens similaire d’avoir une représentation semblable. Il s'agit d'une méthode d'apprentissage non supervisé sur un vaste corpus textuel, où le modèle apprend à prédire un mot à partir de son contexte ou inversement. Une fois entraîné, cette méthode produit des représentations vectorielles où des mots proches dans cet espace à haute dimension sont censés être sémantiquement similaires.\n",
    "\n",
    "Contrairement à une simple assignation de vecteurs uniques par mot, les embeddings capturent des similarités **sémantiques** ou **syntaxiques** basées sur le corpus d'entraînement. Les vecteurs d'embedding contiennent souvent des centaines de dimensions et identifient des relations nuancées entre les mots.\n",
    "\n",
    "![word_embed](./asset/word_embed.png)\n",
    "\n",
    "---\n",
    "\n",
    "## Couche d'Embedding (Embedding Layer)\n",
    "\n",
    "Une **couche d'embedding** en apprentissage machine permet de créer des représentations vectorielles (embeddings) à partir de séquences d’entrée. Elle associe des mots ou des indices entiers à des vecteurs denses de nombres réels.\n",
    "\n",
    "### Processus :\n",
    "- En entrée : une séquence d'indices de mots (par exemple, des entiers correspondant à des mots dans un vocabulaire).\n",
    "- En sortie : un tenseur où chaque séquence garde sa longueur originale, mais chaque mot/entier est représenté par un vecteur dense.\n",
    "\n",
    "Ces vecteurs capturent les relations **sémantiques** entre les mots. La dimensionnalité de ces vecteurs est un hyperparamètre que l’on peut ajuster selon la tâche.\n",
    "\n",
    "---\n",
    "\n",
    "### Utilisation basique\n",
    "\n",
    "La couche d'embedding agit uniquement comme une **table de correspondance**. Chaque index est associé à un vecteur dense qui peut être mis à jour lors de l'entraînement."
   ],
   "id": "296c624fa97606f8"
  },
  {
   "metadata": {},
   "cell_type": "code",
   "outputs": [],
   "execution_count": null,
   "source": "!pip install -U -q torch transformers pandas numpy matplotlib",
   "id": "8851cb2de5c908ab"
  },
  {
   "metadata": {
    "collapsed": false,
    "ExecuteTime": {
     "end_time": "2025-02-01T15:12:06.385549Z",
     "start_time": "2025-02-01T15:12:03.776839Z"
    }
   },
   "cell_type": "code",
   "source": [
    "import torch\n",
    "import torch.nn as nn\n",
    "\n",
    "# Création d'un dictionnaire qui associe chaque mot à un index unique\n",
    "word_to_ix = {\"hello\": 0, \"world\": 1}\n",
    "\n",
    "# Initialisation de la couche d'embedding (représentation vectorielle pour les mots)\n",
    "# - num_embeddings : taille du vocabulaire (le nombre de mots uniques, ici 2)\n",
    "# - embedding_dim : dimensionnalité des vecteurs d'embedding (ici 5). Chaque mot sera représenté par un vecteur de 5 dimensions.\n",
    "embeds = nn.Embedding(num_embeddings=2, embedding_dim=5)\n",
    "\n",
    "# Transformation du mot \"hello\" (indexé par 0) en tenseur (tensor)\n",
    "lookup_tensor = torch.tensor([word_to_ix[\"hello\"]], dtype=torch.long)\n",
    "\n",
    "# Récupération de l'embedding (vecteur) correspondant au mot \"hello\" via la couche d'embedding\n",
    "hello_embed = embeds(lookup_tensor)\n",
    "\n",
    "print(hello_embed)"
   ],
   "id": "1eb248361b1f0817",
   "outputs": [
    {
     "name": "stdout",
     "output_type": "stream",
     "text": [
      "tensor([[-1.8809,  1.5891, -0.5104, -0.4216,  2.1742]],\n",
      "       grad_fn=<EmbeddingBackward0>)\n"
     ]
    }
   ],
   "execution_count": 1
  },
  {
   "cell_type": "markdown",
   "id": "a3729db8c57169d4",
   "metadata": {
    "collapsed": false
   },
   "source": "Paramètres d'entrainements"
  },
  {
   "cell_type": "code",
   "id": "a147c1b00b18fce0",
   "metadata": {
    "collapsed": false,
    "ExecuteTime": {
     "end_time": "2025-02-01T15:12:29.381232Z",
     "start_time": "2025-02-01T15:12:29.377707Z"
    }
   },
   "source": [
    "for param in embeds.parameters():\n",
    "    print(param)"
   ],
   "outputs": [
    {
     "name": "stdout",
     "output_type": "stream",
     "text": [
      "Parameter containing:\n",
      "tensor([[-1.8809,  1.5891, -0.5104, -0.4216,  2.1742],\n",
      "        [-1.1183, -0.2871,  0.5395, -0.9291, -2.3211]], requires_grad=True)\n"
     ]
    }
   ],
   "execution_count": 2
  },
  {
   "cell_type": "markdown",
   "id": "445679a4b1b15fbe",
   "metadata": {
    "collapsed": false
   },
   "source": "Juste pour le fun on définie nos propres paramètres\n"
  },
  {
   "cell_type": "code",
   "id": "132f51809cc92340",
   "metadata": {
    "collapsed": false,
    "ExecuteTime": {
     "end_time": "2025-02-01T15:13:14.561807Z",
     "start_time": "2025-02-01T15:13:14.553672Z"
    }
   },
   "source": [
    "embedding_lookup = torch.tensor([\n",
    "    [1, 0, 0, 0, 1],\n",
    "    [0, 1, 1, 1, 0],\n",
    "    ], dtype=torch.float32)\n",
    "embeds.weight = nn.Parameter(embedding_lookup)\n",
    "for param in embeds.parameters():\n",
    "    print(param)"
   ],
   "outputs": [
    {
     "name": "stdout",
     "output_type": "stream",
     "text": [
      "Parameter containing:\n",
      "tensor([[1., 0., 0., 0., 1.],\n",
      "        [0., 1., 1., 1., 0.]], requires_grad=True)\n"
     ]
    }
   ],
   "execution_count": 4
  },
  {
   "cell_type": "markdown",
   "id": "603ebf902b1c23de",
   "metadata": {
    "collapsed": false
   },
   "source": "Comme vous pouvez le constater, si je sélectionne l'index 0 ou 1, j'obtiens ma ligne embedding_lookup"
  },
  {
   "cell_type": "code",
   "id": "e55098ecab0d9fba",
   "metadata": {
    "collapsed": false,
    "ExecuteTime": {
     "end_time": "2025-02-01T15:14:03.345754Z",
     "start_time": "2025-02-01T15:14:03.330248Z"
    }
   },
   "source": [
    "print(embeds(torch.tensor([0])))\n",
    "print(embeds(torch.tensor([1])))"
   ],
   "outputs": [
    {
     "name": "stdout",
     "output_type": "stream",
     "text": [
      "tensor([[1., 0., 0., 0., 1.]], grad_fn=<EmbeddingBackward0>)\n",
      "tensor([[0., 1., 1., 1., 0.]], grad_fn=<EmbeddingBackward0>)\n"
     ]
    }
   ],
   "execution_count": 5
  },
  {
   "cell_type": "markdown",
   "id": "a1fb3b0d9955d9d9",
   "metadata": {
    "collapsed": false
   },
   "source": [
    "## GPT embedding\n",
    "\n",
    "Regardons le tout premier modèle GPT et voyons la taille de la couche d'embedding."
   ]
  },
  {
   "cell_type": "code",
   "id": "eff43cf92ccb96fd",
   "metadata": {
    "collapsed": false,
    "ExecuteTime": {
     "end_time": "2025-02-01T15:18:02.515286Z",
     "start_time": "2025-02-01T15:17:04.850450Z"
    }
   },
   "source": [
    "from transformers import GPT2Tokenizer, GPT2Model\n",
    "\n",
    "tokenizer = GPT2Tokenizer.from_pretrained(\"gpt2\")\n",
    "model = GPT2Model.from_pretrained(\"gpt2\")\n",
    "\n",
    "inputs = tokenizer(\"Hello, my dog is cute\", return_tensors=\"pt\")\n",
    "\n",
    "print(\"vocab size\", tokenizer.vocab_size)\n",
    "\n",
    "# expected Embedding(50257, 768)\n",
    "# 50257 = vocabulary size\n",
    "# 768 = number of features\n",
    "print(\"Embedding size\", model.wte)\n",
    "print(inputs)"
   ],
   "outputs": [
    {
     "data": {
      "text/plain": [
       "tokenizer_config.json:   0%|          | 0.00/26.0 [00:00<?, ?B/s]"
      ],
      "application/vnd.jupyter.widget-view+json": {
       "version_major": 2,
       "version_minor": 0,
       "model_id": "04f3876bbfce4d0589e2efbb2c4de6a5"
      }
     },
     "metadata": {},
     "output_type": "display_data"
    },
    {
     "data": {
      "text/plain": [
       "vocab.json:   0%|          | 0.00/1.04M [00:00<?, ?B/s]"
      ],
      "application/vnd.jupyter.widget-view+json": {
       "version_major": 2,
       "version_minor": 0,
       "model_id": "aac963957bb6483da70a1b5abbbe48de"
      }
     },
     "metadata": {},
     "output_type": "display_data"
    },
    {
     "data": {
      "text/plain": [
       "merges.txt:   0%|          | 0.00/456k [00:00<?, ?B/s]"
      ],
      "application/vnd.jupyter.widget-view+json": {
       "version_major": 2,
       "version_minor": 0,
       "model_id": "c8ddbeed344544809946446cd61c4cfc"
      }
     },
     "metadata": {},
     "output_type": "display_data"
    },
    {
     "data": {
      "text/plain": [
       "tokenizer.json:   0%|          | 0.00/1.36M [00:00<?, ?B/s]"
      ],
      "application/vnd.jupyter.widget-view+json": {
       "version_major": 2,
       "version_minor": 0,
       "model_id": "af463aad60414830bfec21b0c16a0324"
      }
     },
     "metadata": {},
     "output_type": "display_data"
    },
    {
     "data": {
      "text/plain": [
       "config.json:   0%|          | 0.00/665 [00:00<?, ?B/s]"
      ],
      "application/vnd.jupyter.widget-view+json": {
       "version_major": 2,
       "version_minor": 0,
       "model_id": "f4bffbaf933445db88e0abff3674ac3c"
      }
     },
     "metadata": {},
     "output_type": "display_data"
    },
    {
     "data": {
      "text/plain": [
       "model.safetensors:   0%|          | 0.00/548M [00:00<?, ?B/s]"
      ],
      "application/vnd.jupyter.widget-view+json": {
       "version_major": 2,
       "version_minor": 0,
       "model_id": "105e24935d6b4f0c8439f9ae801abfae"
      }
     },
     "metadata": {},
     "output_type": "display_data"
    },
    {
     "name": "stdout",
     "output_type": "stream",
     "text": [
      "vocab size 50257\n",
      "Embedding size Embedding(50257, 768)\n",
      "{'input_ids': tensor([[15496,    11,   616,  3290,   318, 13779]]), 'attention_mask': tensor([[1, 1, 1, 1, 1, 1]])}\n"
     ]
    }
   ],
   "execution_count": 6
  },
  {
   "metadata": {},
   "cell_type": "markdown",
   "source": [
    "\n",
    "[Regardont le code de ce GPT](https://github.com/huggingface/transformers/blob/v4.25.1/src/transformers/models/gpt2/modeling_gpt2.py#L667)\n"
   ],
   "id": "d05bacebca0810ab"
  },
  {
   "metadata": {},
   "cell_type": "markdown",
   "source": [
    "## Entraîner la première couche d'embedding\n",
    "\n",
    "Dans cette section, nous allons entraîner notre première couche d'embedding sur des avis de parcs Disney !\n",
    "Pour commencer, nous entraînerons uniquement cette couche sur les lettres composant les mots.\n",
    "\n"
   ],
   "id": "9488b102f4689a15"
  },
  {
   "cell_type": "code",
   "id": "e1e9ce6061cdd8c",
   "metadata": {
    "collapsed": false,
    "ExecuteTime": {
     "end_time": "2025-02-01T15:22:37.263332Z",
     "start_time": "2025-02-01T15:22:36.414405Z"
    }
   },
   "source": [
    "import pandas as pd\n",
    "\n",
    "# Load and take subset of the dataset\n",
    "df = pd.read_csv(\"data/disney_review/train.csv\")[:5000]\n",
    "df.head()"
   ],
   "outputs": [
    {
     "data": {
      "text/plain": [
       "   Unnamed: 0  Review_ID  Rating Year_Month Reviewer_Location  \\\n",
       "0       16833  333121929       5    2015-12     United States   \n",
       "1       28602   71690002       5    missing            Canada   \n",
       "2       32094  481683772       5     2017-4    United Kingdom   \n",
       "3       16576  339637317       5     2016-1     United States   \n",
       "4       13962  438710000       5    2016-10    United Kingdom   \n",
       "\n",
       "                                         Review_Text                 Branch  \n",
       "0  Truly the most magical place on the West Coast...  Disneyland_California  \n",
       "1  I cry every time we have to leave this place, ...  Disneyland_California  \n",
       "2  Staff everywhere were just friendly, the custo...       Disneyland_Paris  \n",
       "3  It's Disneyland, what more is there to say?  W...  Disneyland_California  \n",
       "4  We visited this park at Halloween and enjoyed ...  Disneyland_California  "
      ],
      "text/html": [
       "<div>\n",
       "<style scoped>\n",
       "    .dataframe tbody tr th:only-of-type {\n",
       "        vertical-align: middle;\n",
       "    }\n",
       "\n",
       "    .dataframe tbody tr th {\n",
       "        vertical-align: top;\n",
       "    }\n",
       "\n",
       "    .dataframe thead th {\n",
       "        text-align: right;\n",
       "    }\n",
       "</style>\n",
       "<table border=\"1\" class=\"dataframe\">\n",
       "  <thead>\n",
       "    <tr style=\"text-align: right;\">\n",
       "      <th></th>\n",
       "      <th>Unnamed: 0</th>\n",
       "      <th>Review_ID</th>\n",
       "      <th>Rating</th>\n",
       "      <th>Year_Month</th>\n",
       "      <th>Reviewer_Location</th>\n",
       "      <th>Review_Text</th>\n",
       "      <th>Branch</th>\n",
       "    </tr>\n",
       "  </thead>\n",
       "  <tbody>\n",
       "    <tr>\n",
       "      <th>0</th>\n",
       "      <td>16833</td>\n",
       "      <td>333121929</td>\n",
       "      <td>5</td>\n",
       "      <td>2015-12</td>\n",
       "      <td>United States</td>\n",
       "      <td>Truly the most magical place on the West Coast...</td>\n",
       "      <td>Disneyland_California</td>\n",
       "    </tr>\n",
       "    <tr>\n",
       "      <th>1</th>\n",
       "      <td>28602</td>\n",
       "      <td>71690002</td>\n",
       "      <td>5</td>\n",
       "      <td>missing</td>\n",
       "      <td>Canada</td>\n",
       "      <td>I cry every time we have to leave this place, ...</td>\n",
       "      <td>Disneyland_California</td>\n",
       "    </tr>\n",
       "    <tr>\n",
       "      <th>2</th>\n",
       "      <td>32094</td>\n",
       "      <td>481683772</td>\n",
       "      <td>5</td>\n",
       "      <td>2017-4</td>\n",
       "      <td>United Kingdom</td>\n",
       "      <td>Staff everywhere were just friendly, the custo...</td>\n",
       "      <td>Disneyland_Paris</td>\n",
       "    </tr>\n",
       "    <tr>\n",
       "      <th>3</th>\n",
       "      <td>16576</td>\n",
       "      <td>339637317</td>\n",
       "      <td>5</td>\n",
       "      <td>2016-1</td>\n",
       "      <td>United States</td>\n",
       "      <td>It's Disneyland, what more is there to say?  W...</td>\n",
       "      <td>Disneyland_California</td>\n",
       "    </tr>\n",
       "    <tr>\n",
       "      <th>4</th>\n",
       "      <td>13962</td>\n",
       "      <td>438710000</td>\n",
       "      <td>5</td>\n",
       "      <td>2016-10</td>\n",
       "      <td>United Kingdom</td>\n",
       "      <td>We visited this park at Halloween and enjoyed ...</td>\n",
       "      <td>Disneyland_California</td>\n",
       "    </tr>\n",
       "  </tbody>\n",
       "</table>\n",
       "</div>"
      ]
     },
     "execution_count": 9,
     "metadata": {},
     "output_type": "execute_result"
    }
   ],
   "execution_count": 9
  },
  {
   "cell_type": "code",
   "id": "b7e2a7aaded336c1",
   "metadata": {
    "collapsed": false,
    "ExecuteTime": {
     "end_time": "2025-02-01T15:22:45.666101Z",
     "start_time": "2025-02-01T15:22:45.659893Z"
    }
   },
   "source": [
    "# Count each deffrent values of rating\n",
    "df['Rating'].value_counts()"
   ],
   "outputs": [
    {
     "data": {
      "text/plain": [
       "Rating\n",
       "5    2662\n",
       "4    1274\n",
       "3     610\n",
       "2     260\n",
       "1     194\n",
       "Name: count, dtype: int64"
      ]
     },
     "execution_count": 10,
     "metadata": {},
     "output_type": "execute_result"
    }
   ],
   "execution_count": 10
  },
  {
   "cell_type": "code",
   "id": "e239d6e2169b3309",
   "metadata": {
    "collapsed": false,
    "ExecuteTime": {
     "end_time": "2025-02-01T15:22:52.594200Z",
     "start_time": "2025-02-01T15:22:52.590410Z"
    }
   },
   "source": [
    "# Get reviews\n",
    "reviews = df[\"Review_Text\"].values.tolist()"
   ],
   "outputs": [],
   "execution_count": 11
  },
  {
   "cell_type": "markdown",
   "id": "f634a4191a83c5be",
   "metadata": {
    "collapsed": false
   },
   "source": [
    "Maintenant, nous allons créer une séquence de lettres basée sur des phrases.\n",
    "Par exemple :\n",
    "\n",
    "```\n",
    "aba decides a\n",
    "```\n",
    "\n",
    "produira:\n",
    "\n",
    "```\n",
    "[\n",
    "  ('a', 'b'),\n",
    "  ('b', 'a'),\n",
    "  ('a', ' '),\n",
    "  (' ', 'd'),\n",
    "  ('d', 'e'),\n",
    "  ('e', 'c'),\n",
    "  ('c', 'i'),\n",
    "  ('i', 'd'),\n",
    "  ('d', 'e'),\n",
    "  ('e', 's'),\n",
    "  ('s', ' '),\n",
    "  (' ', 'a'),\n",
    "]\n",
    "```"
   ]
  },
  {
   "cell_type": "code",
   "id": "8c2804b661785f58",
   "metadata": {
    "collapsed": false,
    "ExecuteTime": {
     "end_time": "2025-02-01T15:28:22.792548Z",
     "start_time": "2025-02-01T15:28:22.316102Z"
    }
   },
   "source": [
    "import itertools as it\n",
    "import re\n",
    "\n",
    "\n",
    "def sliding_window(txt):\n",
    "    # Génère des paires de caractères (bigrammes) à partir du texte donné\n",
    "    # Exemple : 'chat' -> ('c', 'h'), ('h', 'a'), ('a', 't')\n",
    "    for i in range(len(txt) - 1):\n",
    "        yield txt[i], txt[i + 1]\n",
    "\n",
    "\n",
    "window = []\n",
    "\n",
    "for title in reviews:\n",
    "    # Nettoie chaque titre pour ne conserver que les lettres (a-z) et les chiffres (0-9)\n",
    "    title = re.sub('[^a-zA-Z0-9]+', '', title.lower())\n",
    "\n",
    "    # Applique la fonction sliding_window au titre nettoyé et l'ajoute à la liste `window`\n",
    "    window.append(sliding_window(title))\n",
    "\n",
    "window = list(it.chain(*window))\n",
    "\n",
    "# Affiche le nombre total de paires (bigrammes) générées\n",
    "print(len(window))\n",
    "\n",
    "# Affiche les 5 premières paires générées en guise d'exemple\n",
    "window[:5]"
   ],
   "outputs": [
    {
     "name": "stdout",
     "output_type": "stream",
     "text": [
      "2699406\n"
     ]
    },
    {
     "data": {
      "text/plain": [
       "[('t', 'r'), ('r', 'u'), ('u', 'l'), ('l', 'y'), ('y', 't')]"
      ]
     },
     "execution_count": 12,
     "metadata": {},
     "output_type": "execute_result"
    }
   ],
   "execution_count": 12
  },
  {
   "cell_type": "markdown",
   "id": "cfe8ce2e3ac7aa2e",
   "metadata": {
    "collapsed": false
   },
   "source": [
    "Maintenant, effectuons un encodage one-hot de manière à ce qu'une lettre corresponde à un identifiant (comme un identifiant dans une table SQL).\n",
    "\n",
    "```\n",
    "{' ': 2,\n",
    " 'a': 0,\n",
    " 'b': 1,\n",
    " 'c': 5,\n",
    " 'd': 3,\n",
    " 'e': 4,\n",
    " 'g': 8,\n",
    " 'i': 6,\n",
    " 'l': 16,\n",
    " 'm': 12,\n",
    " 'n': 9,\n",
    " 'o': 11,\n",
    " 'r': 15,\n",
    " 's': 7,\n",
    " 't': 10,\n",
    " 'u': 13,\n",
    " 'y': 14}\n",
    "```"
   ]
  },
  {
   "cell_type": "code",
   "id": "bddf0e797566eeef",
   "metadata": {
    "collapsed": false,
    "ExecuteTime": {
     "end_time": "2025-02-01T15:30:25.442580Z",
     "start_time": "2025-02-01T15:30:24.808811Z"
    }
   },
   "source": [
    "import numpy as np\n",
    "\n",
    "# Mapping lettre avec un ID\n",
    "mapping = {c: i for i, c in enumerate(pd.DataFrame(window)[0].unique())}\n",
    "# Id en entrée du modèle\n",
    "integers_in = np.array([mapping[w[0]] for w in window])\n",
    "# Id en sortie du modèle\n",
    "integers_out = np.array([mapping[w[1]] for w in window])\n",
    "\n",
    "print(\"Shape of input\", integers_in.shape)\n",
    "print(\"Input example\", integers_in[0], integers_out[0])\n",
    "print(\"Show generate mapping\\n\", mapping)"
   ],
   "outputs": [
    {
     "name": "stdout",
     "output_type": "stream",
     "text": [
      "Shape of input (2699406,)\n",
      "Input example 0 1\n",
      "Show generate mapping\n",
      " {'t': 0, 'r': 1, 'u': 2, 'l': 3, 'y': 4, 'h': 5, 'e': 6, 'm': 7, 'o': 8, 's': 9, 'a': 10, 'g': 11, 'i': 12, 'c': 13, 'p': 14, 'n': 15, 'w': 16, 'd': 17, 'b': 18, 'v': 19, 'f': 20, 'k': 21, 'j': 22, '1': 23, '9': 24, '5': 25, '6': 26, '0': 27, 'q': 28, '7': 29, '2': 30, 'x': 31, 'z': 32, '3': 33, '4': 34, '8': 35}\n"
     ]
    }
   ],
   "execution_count": 13
  },
  {
   "cell_type": "markdown",
   "id": "1f779327cd0196cc",
   "metadata": {
    "collapsed": false
   },
   "source": [
    "### La classe Dataset\n",
    "\n",
    "La classe `Dataset` résume les fonctionnalités de base d'un jeu de données de manière naturelle.\n",
    "Pour définir un jeu de données dans PyTorch, il suffit d'implémenter deux fonctions principales : `__getitem__` et `__len__`.\n",
    "\n",
    "1. **`__getitem__`** : Cette fonction doit retourner le i-ème échantillon du jeu de données.\n",
    "2. **`__len__`** : Cette fonction retourne la taille totale du jeu de données.\n",
    "\n",
    "Ces deux fonctions garantissent une structure cohérente et standardisée pour interagir avec vos données."
   ]
  },
  {
   "cell_type": "code",
   "id": "f926f9dabe6b07fe",
   "metadata": {
    "collapsed": false,
    "ExecuteTime": {
     "end_time": "2025-02-01T15:46:18.053013Z",
     "start_time": "2025-02-01T15:46:18.049389Z"
    }
   },
   "source": [
    "from typing import List, Tuple\n",
    "import torch.utils.data as data\n",
    "\n",
    "\n",
    "class NextLetterDataset(data.Dataset):\n",
    "    def __init__(self, integers_in: List[int], integers_out: List[int]):\n",
    "        self.integers_in = integers_in  # Stocke les données d'entrée\n",
    "        self.integers_out = integers_out  # Stocke les étiquettes de sortie\n",
    "\n",
    "    def __len__(self):\n",
    "        return len(self.integers_in)\n",
    "\n",
    "    def __getitem__(self, idx) -> Tuple[torch.tensor, torch.tensor]:\n",
    "        \"\"\"\n",
    "        Retourne le i-ème échantillon et son étiquette à partir du dataset.\n",
    "        Les données et étiquettes sont converties en tenseurs PyTorch avant d'être renvoyées.\n",
    "\n",
    "        Args:\n",
    "        - idx (int): L'index de l'échantillon à récupérer.\n",
    "\n",
    "        Returns:\n",
    "        - Tuple[torch.tensor, torch.tensor]: Une paire contenant :\n",
    "            - Le tenseur représentant la lettre en entrée\n",
    "            - Le tenseur représentant la lettre en sortie\n",
    "        \"\"\"\n",
    "        data_point = self.integers_in[idx]\n",
    "        data_label = self.integers_out[idx]\n",
    "        return torch.tensor(data_point), torch.tensor(data_label, dtype=torch.int64)"
   ],
   "outputs": [],
   "execution_count": 23
  },
  {
   "metadata": {},
   "cell_type": "markdown",
   "source": [
    "## Construire le premier modèle d'embedding\n",
    "Nous allons construire un réseau simple pour prédire la lettre suivante.\n",
    "\n",
    "![Prédiction de la lettre suivante](./asset/next_letter_prediction.png)"
   ],
   "id": "d69dcf3d22c73b07"
  },
  {
   "cell_type": "code",
   "id": "8115c1c470321512",
   "metadata": {
    "collapsed": false,
    "ExecuteTime": {
     "end_time": "2025-02-01T15:46:20.922014Z",
     "start_time": "2025-02-01T15:46:20.917694Z"
    }
   },
   "source": [
    "import torch.nn.functional as F\n",
    "\n",
    "\n",
    "class NextLetterPrediction(torch.nn.Module):\n",
    "    def __init__(self, vocab_size, embedding_size):\n",
    "        super(NextLetterPrediction, self).__init__()\n",
    "        self.embedding = torch.nn.Embedding(vocab_size, embedding_size)\n",
    "        self.fc = torch.nn.Linear(embedding_size, vocab_size)\n",
    "\n",
    "    def forward(self, x):\n",
    "        x = F.relu(self.embedding(x))\n",
    "        x = self.fc(x)\n",
    "        return x"
   ],
   "outputs": [],
   "execution_count": 24
  },
  {
   "cell_type": "markdown",
   "id": "95ea191b7e45c59e",
   "metadata": {
    "collapsed": false
   },
   "source": [
    "### Visualisation des lettres avant l'entraînement\n",
    "Visualisons les embeddings des lettres avant l'entraînement du modèle."
   ]
  },
  {
   "cell_type": "code",
   "id": "dff312a08c307874",
   "metadata": {
    "collapsed": false,
    "ExecuteTime": {
     "end_time": "2025-02-01T15:46:22.465245Z",
     "start_time": "2025-02-01T15:46:22.461940Z"
    }
   },
   "source": [
    "model = NextLetterPrediction(vocab_size=len(mapping),\n",
    "                             # pour l'axe X et Y\n",
    "                             embedding_size=2)"
   ],
   "outputs": [],
   "execution_count": 25
  },
  {
   "cell_type": "code",
   "id": "35d26f4694ee313",
   "metadata": {
    "collapsed": false,
    "ExecuteTime": {
     "end_time": "2025-02-01T15:46:23.917476Z",
     "start_time": "2025-02-01T15:46:23.810369Z"
    }
   },
   "source": [
    "import matplotlib.pylab as plt\n",
    "\n",
    "idx_to_calc = list(mapping.values())\n",
    "idx_to_calc = np.array([idx_to_calc]).T\n",
    "\n",
    "translator = {v: k for k, v in mapping.items()}\n",
    "preds = model.embedding(torch.tensor(idx_to_calc)).detach().numpy()\n",
    "plt.scatter(preds[:, 0, 0], preds[:, 0, 1], alpha=0)\n",
    "for i, idx in enumerate(idx_to_calc):\n",
    "    plt.text(preds[i, 0, 0], preds[i, 0, 1], translator[idx[0]])"
   ],
   "outputs": [
    {
     "data": {
      "text/plain": [
       "<Figure size 640x480 with 1 Axes>"
      ],
      "image/png": "[encoded data removed]"
     },
     "metadata": {},
     "output_type": "display_data"
    }
   ],
   "execution_count": 26
  },
  {
   "cell_type": "markdown",
   "id": "a8e9c4b621c62168",
   "metadata": {
    "collapsed": false
   },
   "source": [
    "### Train loop\n"
   ]
  },
  {
   "cell_type": "code",
   "id": "63fdfddb974e19fc",
   "metadata": {
    "collapsed": false,
    "ExecuteTime": {
     "end_time": "2025-02-01T15:46:25.632063Z",
     "start_time": "2025-02-01T15:46:25.628246Z"
    }
   },
   "source": [
    "# Initialisation du dataset dans le DataLoader\n",
    "# On crée une instance de la classe NextLetterDataset.\n",
    "# Les arguments \"integers_in\" et \"integers_out\" représentent respectivement les entrées et les sorties du modèle.\n",
    "# Le DataLoader est utilisé pour faciliter le traitement du dataset, notamment en divisant les données en batchs\n",
    "# de taille spécifiée (ici, batch_size=128) et en mélangeant les données (shuffle=True) à chaque époque d'entraînement.\n",
    "dataset = NextLetterDataset(integers_in, integers_out)\n",
    "trainloader = data.DataLoader(dataset, batch_size=128, shuffle=True)\n",
    "\n",
    "# Définition de la fonction de perte (loss function) et de l'optimiseur\n",
    "# criterion : On utilise la fonction de perte CrossEntropyLoss, adaptée pour les tâches de classification\n",
    "# multi-classes. Elle compare les prédictions du modèle avec les vraies étiquettes, calculant ainsi une mesure\n",
    "# de la distance entre les deux.\n",
    "criterion = nn.CrossEntropyLoss()\n",
    "\n",
    "# optimizer : AdamW est un algorithme d'optimisation basé sur Adam, accompagné d'une régularisation de poids\n",
    "# (Weight Decay). Cela aide à éviter le surapprentissage tout en ajustant les paramètres du modèle pour minimiser\n",
    "# la fonction de perte. Le taux d'apprentissage (lr) est fixé ici à 0.01.\n",
    "optimizer = torch.optim.AdamW(model.parameters(), lr=0.01)"
   ],
   "outputs": [],
   "execution_count": 27
  },
  {
   "cell_type": "code",
   "id": "53ee061e0c27b2e1",
   "metadata": {
    "collapsed": false,
    "ExecuteTime": {
     "end_time": "2025-02-01T15:48:06.699087Z",
     "start_time": "2025-02-01T15:47:17.605236Z"
    }
   },
   "source": [
    "# Définir le nombre d'époques pour l'entraînement\n",
    "epoches = 1\n",
    "\n",
    "# Vérifie si un GPU CUDA est disponible ; sinon, utilise le CPU.\n",
    "device = torch.device(\"cuda\" if torch.cuda.is_available() else \"cpu\")\n",
    "print(device)\n",
    "\n",
    "# Charger le modèle sur le dispositif choisi (GPU ou CPU) en mode entraînement.\n",
    "model = model.to(device)\n",
    "model.train()\n",
    "\n",
    "# Boucle principale d'entraînement sur plusieurs époques.\n",
    "# Une époque représente une passe complète à travers toutes les données.\n",
    "for epoch in range(epoches):\n",
    "    running_loss = 0.0  # Initialisation de la perte agrégée pour cette époque\n",
    "\n",
    "    # Boucle interne pour itérer sur le *DataLoader* (trainloader).\n",
    "    # *trainloader* fournit des lots (batchs) contenant des données d’entrée et leurs étiquettes.\n",
    "    for i, batch in enumerate(trainloader, 0):\n",
    "        inputs, labels = batch\n",
    "\n",
    "        # Transférer ces données vers le GPU (ou rester sur le CPU selon l’appareil défini).\n",
    "        inputs = inputs.to(device)\n",
    "        labels = labels.to(device)\n",
    "\n",
    "        # Réinitialise les gradients précédents. Cela est essentiel car les gradients calculés\n",
    "        # pour chaque mini-lot s'accumulent par défaut dans PyTorch.\n",
    "        optimizer.zero_grad()\n",
    "\n",
    "        # Phase avant : génère des prédictions du modèle en passant les entrées dans le réseau.\n",
    "        outputs = model(inputs)\n",
    "\n",
    "        # Calcul de la perte en comparant les prédictions (outputs) avec les étiquettes attendues (labels).\n",
    "        loss = criterion(outputs, labels)\n",
    "\n",
    "        # Phase arrière : rétropropagation pour calculer les gradients des paramètres.\n",
    "        loss.backward()\n",
    "\n",
    "        # Mise à jour des poids du modèle en utilisant les gradients calculés.\n",
    "        optimizer.step()\n",
    "\n",
    "        # Mise à jour de la perte cumulée pour les lots traités jusqu’à présent.\n",
    "        running_loss += loss.item()\n",
    "\n",
    "        if i % 2000 == 1999:\n",
    "            print(f'[{epoch + 1}, {i + 1:5d}] loss: {running_loss / 2000:.3f}')\n",
    "            running_loss = 0.0  # Réinitialise la perte pour le prochain groupe de 2000 lots"
   ],
   "outputs": [
    {
     "name": "stdout",
     "output_type": "stream",
     "text": [
      "cuda\n",
      "[1,  2000] loss: 2.823\n",
      "[1,  4000] loss: 2.824\n",
      "[1,  6000] loss: 2.824\n",
      "[1,  8000] loss: 2.823\n",
      "[1, 10000] loss: 2.823\n",
      "[1, 12000] loss: 2.825\n",
      "[1, 14000] loss: 2.825\n",
      "[1, 16000] loss: 2.825\n",
      "[1, 18000] loss: 2.820\n",
      "[1, 20000] loss: 2.824\n"
     ]
    }
   ],
   "execution_count": 29
  },
  {
   "cell_type": "code",
   "id": "1092ac5af7839cb3",
   "metadata": {
    "collapsed": false,
    "ExecuteTime": {
     "end_time": "2025-02-01T15:51:21.724078Z",
     "start_time": "2025-02-01T15:51:21.606770Z"
    }
   },
   "source": [
    "idx_to_calc = list(mapping.values())\n",
    "idx_to_calc = np.array([idx_to_calc]).T\n",
    "\n",
    "translator = {v: k for k, v in mapping.items()}\n",
    "preds = model.embedding(torch.tensor(idx_to_calc).to(device)).cpu().detach().numpy()\n",
    "plt.scatter(preds[:, 0, 0], preds[:, 0, 1], alpha=0)\n",
    "for i, idx in enumerate(idx_to_calc):\n",
    "    plt.text(preds[i, 0, 0], preds[i, 0, 1], translator[idx[0]])"
   ],
   "outputs": [
    {
     "data": {
      "text/plain": [
       "<Figure size 640x480 with 1 Axes>"
      ],
      "image/png": "[encoded data removed]"
     },
     "metadata": {},
     "output_type": "display_data"
    }
   ],
   "execution_count": 30
  }
 ],
 "metadata": {
  "kernelspec": {
   "display_name": "Python 3 (ipykernel)",
   "language": "python",
   "name": "python3"
  },
  "language_info": {
   "codemirror_mode": {
    "name": "ipython",
    "version": 3
   },
   "file_extension": ".py",
   "mimetype": "text/x-python",
   "name": "python",
   "nbconvert_exporter": "python",
   "pygments_lexer": "ipython3",
   "version": "3.10.10"
  }
 },
 "nbformat": 4,
 "nbformat_minor": 5
}
