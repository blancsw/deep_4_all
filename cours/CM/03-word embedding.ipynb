{
 "cells": [
  {
   "cell_type": "markdown",
   "source": [
    "# Word Embedding\n",
    "\n",
    "Word Embedding is a type of word representation that allows words with similar meaning to have a similar representation. It is a learned representation for text where words that have the same meaning have a similar representation. The process of creating word embeddings is to train a model on a large body of text using unsupervised learning so that it learns to predict a word given its context, or vice versa. This results in embeddings where words that are close together in the high-dimensional embedding space are expected to be semantically similar.\n",
    "\n",
    "Notably, word embeddings do not just assign each word to a unique vector, but they actually represent words in a way that captures semantic or syntactic similarity, based on the text corpus the model is trained on. Embedding vectors are often hundreds of dimensions and are good at capturing nuanced relationships between words.\n",
    "\n",
    "![word_embed](../asset/word_embed.png)\n",
    "\n",
    "## Embedding layer\n",
    "\n",
    "An Embedding Layer in machine learning is a layer that creates word embeddings from input sequences by mapping words or integers to dense vectors of real numbers. It's often used in natural language processing tasks where the layer takes in a 2D input of integer sequences (word indices) and on output provides 3D floating point tensor sequences. Each individual sequence in the 3D output tensor will have the same length as the original input sequence, but each word or integer in the sequence is now represented by a dense vector. These vectors capture semantic relationships between words, and their dimensionality is a hyperparameter that can be tuned for specific tasks.\n",
    "\n",
    "### Very basic usage\n",
    "\n",
    "Embedding is just a simple lookup table. Link a index to a trainable vector.\n",
    "\n",
    "\n"
   ],
   "metadata": {
    "collapsed": false
   },
   "id": "3b8467f63f549881"
  },
  {
   "cell_type": "code",
   "outputs": [],
   "source": [
    "import torch\n",
    "import torch.nn as nn\n",
    "\n",
    "word_to_ix = {\"hello\": 0, \"world\": 1}\n",
    "\n",
    "# 2 words in vocab \"hello\" and \"world\"\n",
    "# 5 dimensional embeddings\n",
    "embeds = nn.Embedding(num_embeddings=2, embedding_dim=5)\n",
    "\n",
    "lookup_tensor = torch.tensor([word_to_ix[\"hello\"]], dtype=torch.long)\n",
    "\n",
    "hello_embed = embeds(lookup_tensor)\n",
    "\n",
    "print(hello_embed)"
   ],
   "metadata": {
    "collapsed": false
   },
   "id": "51e07fcd20a96b7c",
   "execution_count": null
  },
  {
   "cell_type": "markdown",
   "source": [
    "Get train parameters"
   ],
   "metadata": {
    "collapsed": false
   },
   "id": "37371719af7d7eba"
  },
  {
   "cell_type": "code",
   "outputs": [],
   "source": [
    "for param in embeds.parameters():\n",
    "  print(param)"
   ],
   "metadata": {
    "collapsed": false
   },
   "id": "2a759ab5eafa4353",
   "execution_count": null
  },
  {
   "cell_type": "markdown",
   "source": [
    "Just for fun set weight to a fix value"
   ],
   "metadata": {
    "collapsed": false
   },
   "id": "fbcb7c680e8ed74b"
  },
  {
   "cell_type": "code",
   "outputs": [],
   "source": [
    "embedding_lookup = torch.tensor([\n",
    "    [1,0,0,0,1],\n",
    "    [0,1,1,1,0],\n",
    "], dtype=torch.float32)\n",
    "embeds.weight = nn.Parameter(embedding_lookup)\n",
    "embeds.weight"
   ],
   "metadata": {
    "collapsed": false
   },
   "id": "1eef4f835e8c6097",
   "execution_count": null
  },
  {
   "cell_type": "markdown",
   "source": [
    "As you can see, if I select index 0 or 1, I get my embedding_lookup line."
   ],
   "metadata": {
    "collapsed": false
   },
   "id": "1d6b7dec9550908"
  },
  {
   "cell_type": "code",
   "outputs": [],
   "source": [
    "print(embeds(torch.tensor([0])))\n",
    "print(embeds(torch.tensor([1])))"
   ],
   "metadata": {
    "collapsed": false
   },
   "id": "88a4997598cf3ab0",
   "execution_count": null
  },
  {
   "cell_type": "markdown",
   "source": [
    "## GPT embedding\n",
    "\n",
    "Let's get the very first GPT model and see how the embedding layer size"
   ],
   "metadata": {
    "collapsed": false
   },
   "id": "b424eaa90dfba86b"
  },
  {
   "cell_type": "code",
   "outputs": [],
   "source": [
    "from transformers import GPT2Tokenizer, GPT2Model\n",
    "\n",
    "tokenizer = GPT2Tokenizer.from_pretrained(\"gpt2\")\n",
    "model = GPT2Model.from_pretrained(\"gpt2\")\n",
    "\n",
    "inputs = tokenizer(\"Hello, my dog is cute\", return_tensors=\"pt\")\n",
    "\n",
    "print(\"vocab size\", tokenizer.vocab_size)\n",
    "\n",
    "# expected Embedding(50257, 768)\n",
    "# 50257 = vocabulary size\n",
    "# 768 = number of features\n",
    "print(\"Embedding size\", model.wte)"
   ],
   "metadata": {
    "collapsed": false
   },
   "id": "b820da9aa5ab2c97",
   "execution_count": null
  },
  {
   "cell_type": "markdown",
   "source": [
    "\n",
    "[Let's look at the code for this model](https://github.com/huggingface/transformers/blob/v4.25.1/src/transformers/models/gpt2/modeling_gpt2.py#L667)\n",
    "\n",
    "## Train first embedding layer\n",
    "\n",
    "For this part we will train our first embedding layer on disney park reviews !\n",
    "\n",
    "To start we will ony train this layer on letter instance of words\n",
    "\n"
   ],
   "metadata": {
    "collapsed": false
   },
   "id": "b99ab61a4c71e441"
  },
  {
   "cell_type": "code",
   "outputs": [
    {
     "data": {
      "text/plain": "   Unnamed: 0  Review_ID  Rating Year_Month Reviewer_Location  \\\n0       16833  333121929       5    2015-12     United States   \n1       28602   71690002       5    missing            Canada   \n2       32094  481683772       5     2017-4    United Kingdom   \n3       16576  339637317       5     2016-1     United States   \n4       13962  438710000       5    2016-10    United Kingdom   \n\n                                         Review_Text                 Branch  \n0  Truly the most magical place on the West Coast...  Disneyland_California  \n1  I cry every time we have to leave this place, ...  Disneyland_California  \n2  Staff everywhere were just friendly, the custo...       Disneyland_Paris  \n3  It's Disneyland, what more is there to say?  W...  Disneyland_California  \n4  We visited this park at Halloween and enjoyed ...  Disneyland_California  ",
      "text/html": "<div>\n<style scoped>\n    .dataframe tbody tr th:only-of-type {\n        vertical-align: middle;\n    }\n\n    .dataframe tbody tr th {\n        vertical-align: top;\n    }\n\n    .dataframe thead th {\n        text-align: right;\n    }\n</style>\n<table border=\"1\" class=\"dataframe\">\n  <thead>\n    <tr style=\"text-align: right;\">\n      <th></th>\n      <th>Unnamed: 0</th>\n      <th>Review_ID</th>\n      <th>Rating</th>\n      <th>Year_Month</th>\n      <th>Reviewer_Location</th>\n      <th>Review_Text</th>\n      <th>Branch</th>\n    </tr>\n  </thead>\n  <tbody>\n    <tr>\n      <th>0</th>\n      <td>16833</td>\n      <td>333121929</td>\n      <td>5</td>\n      <td>2015-12</td>\n      <td>United States</td>\n      <td>Truly the most magical place on the West Coast...</td>\n      <td>Disneyland_California</td>\n    </tr>\n    <tr>\n      <th>1</th>\n      <td>28602</td>\n      <td>71690002</td>\n      <td>5</td>\n      <td>missing</td>\n      <td>Canada</td>\n      <td>I cry every time we have to leave this place, ...</td>\n      <td>Disneyland_California</td>\n    </tr>\n    <tr>\n      <th>2</th>\n      <td>32094</td>\n      <td>481683772</td>\n      <td>5</td>\n      <td>2017-4</td>\n      <td>United Kingdom</td>\n      <td>Staff everywhere were just friendly, the custo...</td>\n      <td>Disneyland_Paris</td>\n    </tr>\n    <tr>\n      <th>3</th>\n      <td>16576</td>\n      <td>339637317</td>\n      <td>5</td>\n      <td>2016-1</td>\n      <td>United States</td>\n      <td>It's Disneyland, what more is there to say?  W...</td>\n      <td>Disneyland_California</td>\n    </tr>\n    <tr>\n      <th>4</th>\n      <td>13962</td>\n      <td>438710000</td>\n      <td>5</td>\n      <td>2016-10</td>\n      <td>United Kingdom</td>\n      <td>We visited this park at Halloween and enjoyed ...</td>\n      <td>Disneyland_California</td>\n    </tr>\n  </tbody>\n</table>\n</div>"
     },
     "execution_count": 1,
     "metadata": {},
     "output_type": "execute_result"
    }
   ],
   "source": [
    "import pandas as pd\n",
    "\n",
    "# Load and take subset of the dataset\n",
    "df = pd.read_csv(\"data/disney_review/train.csv\")[:5000]\n",
    "df.head()"
   ],
   "metadata": {
    "collapsed": false,
    "ExecuteTime": {
     "end_time": "2024-02-02T16:20:17.569322Z",
     "start_time": "2024-02-02T16:20:16.822456600Z"
    }
   },
   "id": "acba1b26d3961b2a",
   "execution_count": 1
  },
  {
   "cell_type": "code",
   "outputs": [],
   "source": [
    "# Count each deffrent values of rating\n",
    "df['Rating'].value_counts()"
   ],
   "metadata": {
    "collapsed": false
   },
   "id": "923fdb1a48c3f608",
   "execution_count": null
  },
  {
   "cell_type": "code",
   "outputs": [],
   "source": [
    "# Get reviews\n",
    "reviews = df[\"Review_Text\"].values.tolist()"
   ],
   "metadata": {
    "collapsed": false
   },
   "id": "2a72b50b90b6c254",
   "execution_count": null
  },
  {
   "cell_type": "markdown",
   "source": [
    "Now we will creat an sequence of letter based on sentences\n",
    "\n",
    "For example:\n",
    "\n",
    "```\n",
    "aba decides a\n",
    "```\n",
    "\n",
    "will produce\n",
    "\n",
    "```\n",
    "[\n",
    "  ('a', 'b'),\n",
    "  ('b', 'a'),\n",
    "  ('a', ' '),\n",
    "  (' ', 'd'),\n",
    "  ('d', 'e'),\n",
    "  ('e', 'c'),\n",
    "  ('c', 'i'),\n",
    "  ('i', 'd'),\n",
    "  ('d', 'e'),\n",
    "  ('e', 's'),\n",
    "  ('s', ' '),\n",
    "  (' ', 'a'),\n",
    "]\n",
    "```"
   ],
   "metadata": {
    "collapsed": false
   },
   "id": "a1f30833e58df33e"
  },
  {
   "cell_type": "code",
   "outputs": [],
   "source": [
    "import itertools as it\n",
    "import re\n",
    "\n",
    "def sliding_window(txt):\n",
    "  for i in range(len(txt) - 1):\n",
    "    yield txt[i], txt[i + 1]\n",
    "    \n",
    "window = []\n",
    "for title in reviews:\n",
    "  # Get only a to z and 0 to 9 letters and numerb\n",
    "  title = re.sub('[^a-zA-Z0-9]+', '', title.lower())\n",
    "  window.append(sliding_window(title))\n",
    "window = list(it.chain(*window))\n",
    "\n",
    "# Number of window\n",
    "print(len(window))\n",
    "# Get first 5 example\n",
    "window[:5]"
   ],
   "metadata": {
    "collapsed": false
   },
   "id": "1266628f474523dc",
   "execution_count": null
  },
  {
   "cell_type": "markdown",
   "source": [
    "Now lets do a one hot encoding so a letter = an id (like sql table id)\n",
    "\n",
    "```\n",
    "{' ': 2,\n",
    " 'a': 0,\n",
    " 'b': 1,\n",
    " 'c': 5,\n",
    " 'd': 3,\n",
    " 'e': 4,\n",
    " 'g': 8,\n",
    " 'i': 6,\n",
    " 'l': 16,\n",
    " 'm': 12,\n",
    " 'n': 9,\n",
    " 'o': 11,\n",
    " 'r': 15,\n",
    " 's': 7,\n",
    " 't': 10,\n",
    " 'u': 13,\n",
    " 'y': 14}\n",
    "```"
   ],
   "metadata": {
    "collapsed": false
   },
   "id": "fce502b2dc7b930d"
  },
  {
   "cell_type": "code",
   "outputs": [],
   "source": [
    "import numpy as np\n",
    "mapping = {c: i for i, c in enumerate(pd.DataFrame(window)[0].unique())}\n",
    "integers_in = np.array([mapping[w[0]] for w in window])\n",
    "integers_out = np.array([mapping[w[1]] for w in window])\n",
    "\n",
    "print(\"Shape of input\", integers_in.shape)\n",
    "print(\"Input example\", integers_in[0], integers_out[0])\n",
    "print(\"Show generate mapping\\n\", mapping)"
   ],
   "metadata": {
    "collapsed": false
   },
   "id": "dc828d62342af71a",
   "execution_count": null
  },
  {
   "cell_type": "markdown",
   "source": [
    "### The dataset class\n",
    "The dataset class summarizes the basic functionality of a dataset in a natural way. To define a dataset in PyTorch, we simply specify two functions: __getitem__, and __len__. The get-item function has to return the i-th data point in the dataset, while the len function returns the size of the dataset."
   ],
   "metadata": {
    "collapsed": false
   },
   "id": "a04babc59b2f359c"
  },
  {
   "cell_type": "code",
   "outputs": [],
   "source": [
    "import torch.utils.data as data\n",
    "\n",
    "class NextLetterDataset(data.Dataset):\n",
    "\n",
    "  def __init__(self, integers_in, integers_out):\n",
    "    self.integers_in = integers_in\n",
    "    self.integers_out = integers_out\n",
    "  \n",
    "  def __len__(self):\n",
    "    # Number of data pin dataset\n",
    "    return len(self.integers_in)\n",
    "\n",
    "  def __getitem__(self, idx):\n",
    "      # Return the idx-th data point of the dataset\n",
    "      # If we have multiple things to return (data point and label), we can return them as tuple\n",
    "      data_point = self.integers_in[idx]\n",
    "      data_label = self.integers_out[idx]\n",
    "      return torch.tensor(data_point), torch.tensor(data_label)"
   ],
   "metadata": {
    "collapsed": false
   },
   "id": "838c35985abec157",
   "execution_count": null
  },
  {
   "cell_type": "markdown",
   "source": [
    "### Build first embedding model\n",
    "\n",
    "We will build a simple network to do next letter prediction\n",
    "\n",
    "![next letter](../asset/next_letter_prediction.png)"
   ],
   "metadata": {
    "collapsed": false
   },
   "id": "a2422c8b5b4c491f"
  },
  {
   "cell_type": "code",
   "outputs": [],
   "source": [
    "import torch.nn.functional as F\n",
    "\n",
    "class NextLetterPrediction(torch.nn.Module):\n",
    "   def __init__(self, vocab_size, embedding_size):\n",
    "       super(NextLetterPrediction, self).__init__()\n",
    "       self.embedding = torch.nn.Embedding(vocab_size, embedding_size)\n",
    "       self.fc = torch.nn.Linear(embedding_size, vocab_size)\n",
    "\n",
    "   def forward(self, x):\n",
    "       x = F.relu(self.embedding(x))\n",
    "       x = self.fc(x)\n",
    "       return x"
   ],
   "metadata": {
    "collapsed": false
   },
   "id": "5689dfcc72645e7",
   "execution_count": null
  },
  {
   "cell_type": "markdown",
   "source": [
    "### Plot letter before the train\n",
    "\n",
    "Let's plot letter embedding before to train the model"
   ],
   "metadata": {
    "collapsed": false
   },
   "id": "cc4b7488bd1832ee"
  },
  {
   "cell_type": "code",
   "outputs": [],
   "source": [
    "model = NextLetterPrediction(vocab_size=len(mapping),\n",
    "                             # For X and Y plot\n",
    "                             embedding_size=2)"
   ],
   "metadata": {
    "collapsed": false
   },
   "id": "c60674a4f94c5927",
   "execution_count": null
  },
  {
   "cell_type": "code",
   "outputs": [],
   "source": [
    "import matplotlib.pylab as plt\n",
    "\n",
    "idx_to_calc = list(mapping.values())\n",
    "idx_to_calc = np.array([idx_to_calc]).T\n",
    "\n",
    "translator = {v:k for k,v in mapping.items()}\n",
    "preds = model.embedding(torch.tensor(idx_to_calc)).detach().numpy()\n",
    "plt.scatter(preds[:, 0, 0], preds[:, 0, 1], alpha=0)\n",
    "for i, idx in enumerate(idx_to_calc):\n",
    "  plt.text(preds[i, 0, 0], preds[i, 0, 1], translator[idx[0]])"
   ],
   "metadata": {
    "collapsed": false
   },
   "id": "dc25c0514820a70",
   "execution_count": null
  },
  {
   "cell_type": "markdown",
   "source": [
    "### Train loop\n"
   ],
   "metadata": {
    "collapsed": false
   },
   "id": "ff737077fe07366d"
  },
  {
   "cell_type": "code",
   "outputs": [],
   "source": [
    "# Init the dataset into the DataLoader\n",
    "dataset = NextLetterDataset(integers_in, integers_out)\n",
    "trainloader = data.DataLoader(dataset, batch_size=128, shuffle=True)\n",
    "\n",
    "# Define a loss function and optimizer\n",
    "criterion = nn.CrossEntropyLoss()\n",
    "optimizer = torch.optim.AdamW(model.parameters(), lr=0.001)"
   ],
   "metadata": {
    "collapsed": false
   },
   "id": "fe3c410a8209554e",
   "execution_count": null
  },
  {
   "cell_type": "code",
   "outputs": [],
   "source": [
    "epoches = 2\n",
    "\n",
    "device = torch.device(\"cuda\" if torch.cuda.is_available() else \"cpu\")\n",
    "print(device)\n",
    "# Load the model to cuda device in train mode\n",
    "model.to(device)\n",
    "model.train()\n",
    "# loop over the dataset multiple times\n",
    "for epoch in range(epoches):\n",
    "\n",
    "    running_loss = 0.0\n",
    "    for i, batch in enumerate(trainloader, 0):\n",
    "        # get the inputs; data is a list of [inputs, labels]\n",
    "        inputs, labels = batch\n",
    "        inputs = inputs.to(device)\n",
    "        labels = labels.to(device)\n",
    "\n",
    "        # zero the parameter gradients\n",
    "        optimizer.zero_grad()\n",
    "\n",
    "        # forward + backward + optimize\n",
    "        outputs = model(inputs)\n",
    "        loss = criterion(outputs, labels)\n",
    "        loss.backward()\n",
    "        optimizer.step()\n",
    "\n",
    "        # print statistics\n",
    "        running_loss += loss.item()\n",
    "        if i % 2000 == 1999:  # print every 2000 mini-batches\n",
    "            print(f'[{epoch + 1}, {i + 1:5d}] loss: {running_loss / 2000:.3f}')\n",
    "            running_loss = 0.0\n",
    "\n",
    "print('Finished Training')"
   ],
   "metadata": {
    "collapsed": false
   },
   "id": "1852a5124d93db84",
   "execution_count": null
  },
  {
   "cell_type": "code",
   "outputs": [],
   "source": [
    "idx_to_calc = list(mapping.values())\n",
    "idx_to_calc = np.array([idx_to_calc]).T\n",
    "\n",
    "translator = {v: k for k, v in mapping.items()}\n",
    "preds = model.embedding(torch.tensor(idx_to_calc).to(device)).cpu().detach().numpy()\n",
    "plt.scatter(preds[:, 0, 0], preds[:, 0, 1], alpha=0)\n",
    "for i, idx in enumerate(idx_to_calc):\n",
    "    plt.text(preds[i, 0, 0], preds[i, 0, 1], translator[idx[0]])"
   ],
   "metadata": {
    "collapsed": false
   },
   "id": "8ae57a7f221fbb93",
   "execution_count": null
  },
  {
   "cell_type": "code",
   "outputs": [],
   "source": [
    "class NextLetterPrediction(torch.nn.Module):\n",
    "   def __init__(self, vocab_size, embedding_size):\n",
    "       super(NextLetterPrediction, self).__init__()\n",
    "       self.embedding = torch.nn.Embedding(vocab_size, embedding_size)\n",
    "       self.fc = torch.nn.Linear(embedding_size, vocab_size)\n",
    "\n",
    "   def forward(self, x):\n",
    "       x = F.relu(self.embedding(x))\n",
    "       x = self.fc(x)\n",
    "       return x"
   ],
   "metadata": {
    "collapsed": false
   },
   "id": "d133cabaf6a84d85"
  }
 ],
 "metadata": {
  "kernelspec": {
   "display_name": "Python 3",
   "language": "python",
   "name": "python3"
  },
  "language_info": {
   "codemirror_mode": {
    "name": "ipython",
    "version": 2
   },
   "file_extension": ".py",
   "mimetype": "text/x-python",
   "name": "python",
   "nbconvert_exporter": "python",
   "pygments_lexer": "ipython2",
   "version": "2.7.6"
  }
 },
 "nbformat": 4,
 "nbformat_minor": 5
}
