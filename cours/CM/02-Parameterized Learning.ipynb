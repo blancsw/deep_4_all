{
 "cells": [
  {
   "cell_type": "markdown",
   "metadata": {
    "id": "CebvQ0n1cWxB"
   },
   "source": [
    "# Parameterized Learning\n",
    "\n",
    "The k-NN classifier – a machine learning model so simple\n",
    "that it doesn’t do any actual “learning” at all. We simply have to store the training data inside\n",
    "the model, and then predictions are made at test time by comparing the testing data points to\n",
    "our training data.\n",
    "\n",
    "How to learn something?\n",
    "\n",
    "## Parameterization\n",
    "\n",
    "parameterization is the process of defining the necessary parameters of a\n",
    "given model\n",
    "\n",
    "## Loss function\n",
    "\n",
    "A loss function quantifies how well our predicted class labels agree with our ground-truth labels.\n",
    "\n",
    "![loss](../asset/loss.png)\n",
    "\n",
    "## Weights and Biases\n",
    "\n",
    "The weight matrix, typically denoted as **W** and the bias vector **b** are called the **weights** or\n",
    "parameters of our classifier that we’ll actually be optimizing. Based on the output of our scoring\n",
    "function and loss function, we’ll be tweaking and fiddling with the values of the weights and biases\n",
    "to increase classification accuracy.\n",
    "\n",
    "### Bias\n",
    "\n",
    "In effect, **a bias value allows you to shift the activation function to the left or right**, which may be critical for successful learning.\n",
    "\n",
    "In other words this sigmoind function\n",
    "\n",
    "![loss](../asset/without_bias.png)\n",
    "\n",
    "can look like this\n",
    "\n",
    "![loss](../asset/with_bias.png)\n",
    "\n",
    "**shifts the curve to the right, which allows us to have a network that outputs 0 when x is 2.**"
   ]
  },
  {
   "cell_type": "markdown",
   "metadata": {
    "id": "428dpltWjNvR"
   },
   "source": [
    "# Linear Classification\n",
    "\n",
    "Let’s assume that our training dataset is denoted as **xi** where each\n",
    "image has an associated class label yi . We’ll assume that\n",
    "\n",
    "**i = 1, ..., N** and\n",
    "\n",
    "**yi = 1, ..., K**\n",
    "\n",
    "implying that we have **N** data points of dimensionality **D**, separated into **K** unique categories.\n",
    "\n",
    "\n",
    "Given these variables, we must now define a scoring function f that maps the images to the\n",
    "class label scores. One method to accomplish this scoring is via a simple linear mapping:\n",
    "\n",
    "\n",
    "f(xi ,W, b) = W * xi + b **texte en gras**\n",
    "\n",
    "Where W * xi is W dot product with xi"
   ]
  },
  {
   "cell_type": "markdown",
   "metadata": {
    "id": "tPADyztnmcAo"
   },
   "source": [
    "Here a simple ilustration of the dot product\n",
    "\n",
    "![params](../asset/parameters_learn.png)"
   ]
  },
  {
   "cell_type": "markdown",
   "metadata": {
    "id": "RifxESXonWn1"
   },
   "source": [
    "## Small demo"
   ]
  },
  {
   "cell_type": "code",
   "execution_count": null,
   "metadata": {
    "id": "JQosCAJ9oZKh"
   },
   "outputs": [],
   "source": [
    "import numpy as np\n",
    "\n",
    "\n",
    "class LinearLayer:\n",
    "    def __init__(self, input_dim, output_dim):\n",
    "        # Initialiser la matrice de poids et le vecteur de biais avec des valeurs aléatoires\n",
    "        self.weights = np.random.randn(input_dim, output_dim)\n",
    "        self.bias = np.random.randn(output_dim)\n",
    "\n",
    "    def forward(self, inputs):\n",
    "        # Calculer les sorties de la couche\n",
    "        return np.dot(inputs, self.weights) + self.bias"
   ]
  },
  {
   "cell_type": "code",
   "execution_count": null,
   "metadata": {
    "id": "Gs766chhom_7"
   },
   "outputs": [],
   "source": [
    "# initialize the class labels and set the seed of the pseudorandom\n",
    "# number generator so we can reproduce our results\n",
    "labels = [\"dog\", \"cat\", \"panda\"]\n",
    "np.random.seed(1)\n",
    "\n",
    "image_size = 32\n",
    "# Grayscale format\n",
    "color_chan = 1\n",
    "\n",
    "layer = LinearLayer(image_size * image_size * color_chan, len(labels))"
   ]
  },
  {
   "cell_type": "code",
   "source": [
    "layer.weights"
   ],
   "metadata": {
    "colab": {
     "base_uri": "https://localhost:8080/"
    },
    "id": "WfpnRfnQx5Ns",
    "outputId": "321c43cf-3256-418f-93de-df08d174eb52"
   },
   "execution_count": null,
   "outputs": []
  },
  {
   "cell_type": "code",
   "execution_count": null,
   "metadata": {
    "colab": {
     "base_uri": "https://localhost:8080/"
    },
    "id": "5YMXrTUVpBjo",
    "outputId": "e2ce6afe-e5c7-474d-db51-09f30928c548"
   },
   "outputs": [],
   "source": [
    "import cv2\n",
    "from matplotlib import pyplot as plt\n",
    "\n",
    "# load our example image, resize it, and then flatten it into our\n",
    "# \"feature vector\" representation\n",
    "orig = cv2.imread(\"../asset/old_dog.jpg\", cv2.IMREAD_GRAYSCALE)\n",
    "plt.imshow(orig, cmap='gray')\n",
    "plt.show()\n",
    "x = cv2.resize(orig, (32, 32)).flatten()\n",
    "# 32 * 32 (1024,) features\n",
    "print(x.shape)"
   ]
  },
  {
   "cell_type": "code",
   "execution_count": null,
   "metadata": {
    "id": "hc1cdoa5pFyw"
   },
   "outputs": [],
   "source": [
    "# compute the output scores by taking the dot product between the\n",
    "# weight matrix and image pixels, followed by adding in the bias\n",
    "scores = layer.forward(x)\n",
    "# loop over the scores + labels and display them\n",
    "for (label, score) in zip(labels, scores):\n",
    "    print(\"[INFO] {}: {:.2f}\".format(label, score))"
   ]
  },
  {
   "cell_type": "markdown",
   "metadata": {
    "id": "cHUgURGsrns7"
   },
   "source": [
    "# Gradient Descent (Optimizer) in 5min\n",
    "\n",
    "![gradiant](../asset/gradiant.png)\n",
    "\n",
    "* In left we got Bob the robot\n",
    "* Bob job to navigate our loss landscape and\n",
    "descend to the bottom of the basin.\n",
    "* But Bob only has one sensor his loss function L\n",
    "\n",
    "But Bob only has one sensor, this sensor\n",
    "allows him to take his parameters **W** and **b** and then compute a loss function **L**\n",
    "\n",
    "But he has absolutely no idea in which **direction** he should take a step to move himself closer to the bottom of the basin.\n",
    "\n",
    "**What is the solution ?**\n",
    "\n",
    "**The answer is to apply gradient descent.** All Chad needs to do is follow\n",
    "the slope of the **gradient** **W** . We can compute the gradient **W** across all dimension\n",
    "\n",
    "\n",
    "So in maths, the **slope** is the **derivative**\n",
    "\n",
    "![gradiant](../asset/slope.png)\n",
    "\n",
    "## Pseudocode for Stochastic Gradient Descent (SGD)\n",
    "\n",
    "```python\n",
    "while True:\n",
    "    Wgradient = evaluate_gradient(loss, data, W)\n",
    "    W += -alpha * Wgradient\n",
    "```\n",
    "\n",
    "The **evaluate_gradient** function returns a vector that is **K-dimensional**, where **K** is the\n",
    "number of dimensions in our image/feature vector. The **Wgradient** variable is the actual gradient,\n",
    "where we have a gradient entry for each dimension.\n",
    "\n",
    "-------------\n",
    "\n",
    "We then apply gradient descent on **Line 3**. We multiply our **Wgradient** by **alpha (α)**, which\n",
    "is our **learning rate**. The learning rate controls the size of our step.\n",
    "\n",
    "* Big step will go fast but we can miss the global minimum\n",
    "* Low step will be slow and yake longer to train\n",
    "\n",
    "The goal is to found the good learning rate !\n",
    "\n",
    "## Demo\n",
    "\n",
    "Creat sigmoid activation function"
   ]
  },
  {
   "cell_type": "markdown",
   "metadata": {
    "id": "dUrohqqWysSC"
   },
   "source": [
    "![image.png](data:image/png;base64,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)"
   ]
  },
  {
   "cell_type": "code",
   "outputs": [],
   "source": [
    "class LinearLayer:\n",
    "    def __init__(self, input_dim, output_dim):\n",
    "        # Initialize weight matrix and bias vector with random values\n",
    "        self.weights = np.random.randn(input_dim, output_dim) * 0.01  # we scale the weights down\n",
    "        self.bias = np.zeros(output_dim)\n",
    "        self.input_dim = input_dim\n",
    "        self.output_dim = output_dim\n",
    "\n",
    "    def sigmoid(self, x):\n",
    "        # implementation of the sigmoid function\n",
    "        return 1 / (1 + np.exp(-x))\n",
    "\n",
    "    def sigmoid_derivative(self, x):\n",
    "        # calculation of the sigmoid derivative\n",
    "        sig = self.sigmoid(x)\n",
    "        return sig * (1 - sig)\n",
    "\n",
    "    def forward(self, inputs):\n",
    "        return self.sigmoid(np.dot(inputs, self.weights) + self.bias)\n",
    "\n",
    "    def backward(self, batch_x, batch_y, preds, learning_rate):\n",
    "        # now that we have our predictions, we need to determine the\n",
    "        # `error`, which is the difference between our predictions\n",
    "        # and the true values\n",
    "        error = preds - batch_y\n",
    "        loss = np.sum(error ** 2)\n",
    "\n",
    "        # the gradient descent update is the dot product between our\n",
    "        # (1) current batch and (2) the error of the sigmoid\n",
    "        # derivative of our predictions\n",
    "        d = self.sigmoid_derivative(preds) * error\n",
    "        gradient = batch_x.T.dot(d)\n",
    "        bias_gradiant = np.sum(d, axis=0)\n",
    "\n",
    "        # update weights and biases\n",
    "        self.weights = self.weights - learning_rate * gradient\n",
    "        self.bias = self.bias - learning_rate * bias_gradiant\n",
    "\n",
    "        # return loss\n",
    "        return loss"
   ],
   "metadata": {
    "collapsed": false
   },
   "execution_count": null
  },
  {
   "cell_type": "markdown",
   "metadata": {
    "id": "wlFwhyVVzQS9"
   },
   "source": [
    "### Build small dataset"
   ]
  },
  {
   "cell_type": "code",
   "execution_count": null,
   "metadata": {
    "id": "YmJBqyVozRud"
   },
   "outputs": [],
   "source": [
    "from sklearn.datasets import make_blobs\n",
    "from sklearn.model_selection import train_test_split\n",
    "\n",
    "# generate a 2-class classification problem with 1,000 data points,\n",
    "# where each data point is a 2D feature vector\n",
    "# Generate a 2D dataset\n",
    "X, y = make_blobs(n_samples=1000, centers=2, n_features=2, random_state=22)\n",
    "# Because our current implementation expects y to be 2D, we need to add an extra dimension to y\n",
    "y = y[:, np.newaxis]\n",
    "\n",
    "# (1000, 2) 2 features\n",
    "print(X.shape)\n",
    "# (1000, 1) one class 0 or 1\n",
    "print(y.shape)"
   ]
  },
  {
   "cell_type": "code",
   "execution_count": null,
   "metadata": {
    "colab": {
     "base_uri": "https://localhost:8080/"
    },
    "id": "GQJ3J2unzcO3",
    "outputId": "0e010144-5204-424c-fe08-2a6e42360cf7"
   },
   "outputs": [],
   "source": [
    "# Scatter plot\n",
    "plt.scatter(X[:, 0], X[:, 1], c=y[:, 0])\n",
    "\n",
    "# Display the plot\n",
    "plt.show()"
   ]
  },
  {
   "cell_type": "code",
   "execution_count": null,
   "metadata": {
    "id": "Q_MHSC9Dzvts"
   },
   "outputs": [],
   "source": [
    "# partition the data into training and testing splits using 50% of\n",
    "# the data for training and the remaining 50% for testing\n",
    "X_train, X_test, y_train, y_test = train_test_split(X, y, test_size=0.5, random_state=42)\n",
    "print(X_train.shape)\n",
    "print(y_train.shape)"
   ]
  },
  {
   "cell_type": "markdown",
   "metadata": {
    "id": "XDfwatgZz9LN"
   },
   "source": [
    "### Creat train loop"
   ]
  },
  {
   "cell_type": "code",
   "outputs": [],
   "source": [
    "# Creat linear layer with the number of features 2, and 0 or 1 output (1 label)\n",
    "layer = LinearLayer(X.shape[1], 1)\n",
    "\n",
    "learning_rate = 0.01\n",
    "num_epochs = 100\n",
    "\n",
    "for epoch in range(num_epochs):\n",
    "    # Forward pass\n",
    "    preds = layer.forward(X_train)\n",
    "    # Backward pass\n",
    "    loss = layer.backward(X_train, y_train, preds, learning_rate)\n",
    "\n",
    "    if epoch % 10 == 0:\n",
    "        print(f\"Epoch {epoch}, Loss: {loss}\")"
   ],
   "metadata": {
    "collapsed": false
   },
   "execution_count": null
  },
  {
   "cell_type": "markdown",
   "metadata": {
    "id": "WSFZDysw10dC"
   },
   "source": [
    "### Evaluate the model"
   ]
  },
  {
   "cell_type": "code",
   "execution_count": null,
   "metadata": {
    "colab": {
     "base_uri": "https://localhost:8080/"
    },
    "id": "GfHUQACn1-46",
    "outputId": "d0245d3e-9ea2-4b44-993a-5a8bf7efbc2d"
   },
   "outputs": [],
   "source": [
    "from sklearn.metrics import classification_report\n",
    "\n",
    "# evaluate our model\n",
    "preds = layer.forward(X_test)\n",
    "print(classification_report(y_test, np.around(preds)))"
   ]
  },
  {
   "cell_type": "markdown",
   "metadata": {
    "id": "qEQ6JoSh3dop"
   },
   "source": [
    "[A very good article on gradient descent](https://www.charlesbordet.com/fr/gradient-descent/#comment-ca-marche-)\n",
    "\n",
    "# Image Classifier with pytorch\n"
   ]
  },
  {
   "cell_type": "code",
   "outputs": [],
   "source": [
    "import torch\n",
    "import torchvision\n",
    "import torchvision.transforms as transforms\n",
    "from torch.utils.data import DataLoader\n",
    "\n",
    "transform = transforms.Compose(\n",
    "    # It converts a PIL Image or numpy.ndarray to torch.FloatTensor of shape (C, H, W) in the range 0. to 1., where C is number of color channels (3 for colored images - RGB), H is height of image, W is width of image.\n",
    "    [transforms.ToTensor(),\n",
    "     # It normalizes an image with the provided mean and standard deviation.\n",
    "     transforms.Normalize((0.5, 0.5, 0.5), (0.5, 0.5, 0.5))])\n",
    "\n",
    "batch_size = 4\n",
    "\n",
    "trainset = torchvision.datasets.CIFAR10(root='./data', train=True,\n",
    "                                        download=True, transform=transform)\n",
    "trainloader = DataLoader(trainset, batch_size=batch_size,\n",
    "                         shuffle=True, num_workers=2)\n",
    "\n",
    "testset = torchvision.datasets.CIFAR10(root='./data', train=False,\n",
    "                                       download=True, transform=transform)\n",
    "testloader = DataLoader(testset, batch_size=batch_size,\n",
    "                        shuffle=False, num_workers=2)\n",
    "\n",
    "classes = ('plane', 'car', 'bird', 'cat',\n",
    "           'deer', 'dog', 'frog', 'horse', 'ship', 'truck')"
   ],
   "metadata": {
    "collapsed": false
   },
   "execution_count": null
  },
  {
   "cell_type": "markdown",
   "source": [
    "Let us show some of the training images, for fun."
   ],
   "metadata": {
    "collapsed": false
   }
  },
  {
   "cell_type": "code",
   "outputs": [],
   "source": [
    "def imshow(img):\n",
    "    # unnormalize\n",
    "    img = img / 2 + 0.5\n",
    "    npimg = img.numpy()\n",
    "    plt.imshow(np.transpose(npimg, (1, 2, 0)))\n",
    "    plt.show()\n",
    "\n",
    "\n",
    "# get some random training images\n",
    "dataiter = iter(trainloader)\n",
    "images, labels = next(dataiter)\n",
    "\n",
    "# show images\n",
    "imshow(torchvision.utils.make_grid(images))\n",
    "# print labels\n",
    "print(' '.join(f'{classes[labels[j]]:5s}' for j in range(batch_size)))\n",
    "\n",
    "# Batch, color chan, width, height\n",
    "print(\"Shape\", images.shape)"
   ],
   "metadata": {
    "collapsed": false
   },
   "execution_count": null
  },
  {
   "cell_type": "markdown",
   "source": [
    "## Quick tour CNN\n",
    "\n",
    "![cnn](../asset/cnn.png)\n",
    "\n",
    "A CNN is a simple convolution matrix with learning weights\n",
    "\n",
    "![cnn](../asset/convolution-calculate.png)\n",
    "\n",
    "`(40*0)+(42*1)+(46*0) + (46*0)+(50*0)+(55*0) + (52*0)+(56*0)+(58*0) = 42`\n",
    "\n",
    "\n",
    "\n"
   ],
   "metadata": {
    "collapsed": false
   }
  },
  {
   "cell_type": "code",
   "outputs": [],
   "source": [
    "import cv2\n",
    "import matplotlib.pyplot as plt\n",
    "\n",
    "# Load the image\n",
    "image = cv2.imread('../asset/old_dog.jpg', cv2.IMREAD_GRAYSCALE)\n",
    "\n",
    "# Apply Laplacian filter\n",
    "laplacian = cv2.Laplacian(image, cv2.CV_16S)\n",
    "\n",
    "# Apply blur filter\n",
    "blur = cv2.blur(image, (5, 5))  # blur with 5x5 kernel\n",
    "\n",
    "fig, axes = plt.subplots(nrows=1, ncols=3, figsize=(15, 5))\n",
    "\n",
    "# Show each image in a subplot\n",
    "axes[0].imshow(image, cmap='gray')\n",
    "axes[0].set_title('Original')\n",
    "axes[1].imshow(cv2.convertScaleAbs(laplacian), cmap='gray')\n",
    "axes[1].set_title('Laplacian')\n",
    "axes[2].imshow(blur, cmap='gray')\n",
    "axes[2].set_title('Blur')\n",
    "plt.show()"
   ],
   "metadata": {
    "collapsed": false
   },
   "execution_count": null
  },
  {
   "cell_type": "markdown",
   "source": [
    "The target of a CNN is to add learning weights foreach convolution matrix in order to train the network.\n",
    "\n",
    "The main goal is to learn convolutional filter.\n",
    "\n",
    "Let's see how to use a single Conv2d layer"
   ],
   "metadata": {
    "collapsed": false
   }
  },
  {
   "cell_type": "code",
   "outputs": [],
   "source": [
    "import torch.nn as nn\n",
    "\n",
    "# Use torchvision transforms to resize the image and convert it to tensor\n",
    "dog_transform = transforms.Compose([\n",
    "    transforms.ToPILImage(),\n",
    "    transforms.Resize((32, 32)),  # Resize your image to desired size\n",
    "    transforms.ToTensor()  # Convert PIL image to tensor\n",
    "])\n",
    "\n",
    "# Apply the transformations on the image\n",
    "tensor_image = dog_transform(image)\n",
    "\n",
    "# Add an extra dimension for the batch size\n",
    "tensor_image = tensor_image.unsqueeze(0)\n",
    "\n",
    "# batch, color chan, width, height\n",
    "# Should print torch.Size([1, 1, 32, 32])\n",
    "print(tensor_image.shape)\n",
    "\n",
    "# CNN layer\n",
    "print(\"\")\n",
    "layer = nn.Conv2d(in_channels=1, out_channels=6, kernel_size=3, stride=2, padding=\"valid\")\n",
    "\n",
    "# Apply the Conv2d layer on the tensor image\n",
    "output = layer(tensor_image)\n",
    "\n",
    "# batch, output foreach filters, width, height\n",
    "# Should print torch.Size([1, 6, 32, 32])\n",
    "print(output.shape)"
   ],
   "metadata": {
    "collapsed": false
   },
   "execution_count": null
  },
  {
   "cell_type": "markdown",
   "source": [
    "## Padding & stride\n",
    "\n",
    "### Padding\n",
    "Padding is a process of adding layers of zeros to the input matrix symmetrically. It is used to control the spatial size of the output volume (i.e., the dimensions). This is important when you want your output volume to have the same spatial dimensions (height x width) as your input volume. Padding can also help in preventing spatial information at the boundaries of an input volume from being \"washed away\" too early in a network.\n",
    "\n",
    "Padding parameter in the Conv2d layer determines how many layers of zeros should be added. If padding = 1, a one pixel wide border of zeros will be added around the input volume. If padding = 2, a two pixel wide border of zeros will be added, and so on.\n",
    "\n",
    "**Note**:\n",
    "padding='valid' is the same as no padding. padding='same' pads the input so the output has the shape as the input. However, this mode doesn’t support any stride values other than 1.\n",
    "\n",
    "### Stride\n",
    "Stride refers to the number of pixels by which the filter matrix slides over the input matrix. When the stride is 1, we move the filters one pixel at a time. When the stride is 2, we move the filters in 2 pixel increments, and so on.\n",
    "\n",
    "A larger stride value leads to a smaller output spatial dimension (i.e., the resultant matrix will be smaller). A smaller stride value retains more spatial dimensions in the output, but will be computationally more expensive as more positions of the filter will be calculated.\n"
   ],
   "metadata": {
    "collapsed": false
   }
  },
  {
   "cell_type": "code",
   "outputs": [],
   "source": [
    "def apply_conv2d_layer(tensor_image, kernel_size, stride, padding_type, name):\n",
    "    print(f'---- Padding {name} ----')\n",
    "\n",
    "    # batch, color chan, width, height\n",
    "    print(\"input image shape\", tensor_image.shape)\n",
    "\n",
    "    layer = nn.Conv2d(in_channels=1, out_channels=6, kernel_size=kernel_size, stride=stride, padding=padding_type)\n",
    "\n",
    "    # Apply the Conv2d layer on the tensor image\n",
    "    output = layer(tensor_image)\n",
    "\n",
    "    # batch, output foreach filters, width, height\n",
    "    print(\"output image shape\", output.shape)\n",
    "\n",
    "\n",
    "# then call the function with different parameters\n",
    "apply_conv2d_layer(tensor_image, kernel_size=3, stride=1, padding_type=\"same\", name='same')\n",
    "apply_conv2d_layer(tensor_image, kernel_size=3, stride=1, padding_type=\"valid\", name='valid')\n",
    "# expected output image shape torch.Size([1, 6, 15, 15])\n",
    "# Image size dived by 2\n",
    "apply_conv2d_layer(tensor_image, kernel_size=3, stride=2, padding_type=\"valid\", name='valid + strid 2')"
   ],
   "metadata": {
    "collapsed": false
   },
   "execution_count": null
  },
  {
   "cell_type": "markdown",
   "source": [
    "## Pooling\n",
    "\n",
    "- The Pooling layer in a Convolutional Neural Network (CNN) is used to reduce the spatial size of the Convolved Feature.\n",
    "- The reduction in spatial size helps decrease the computational power required, thereby aiding in dimensionality reduction.\n",
    "- Pooling is effective for extracting dominant features that are invariant to rotations and positions.\n",
    "- Overall, pooling aids in the efficient training of the model by maintaining significant information while reducing details.\n",
    "\n",
    "![SegmentLocal](../asset/pool.gif \"segment\")"
   ],
   "metadata": {
    "collapsed": false
   }
  },
  {
   "cell_type": "code",
   "outputs": [],
   "source": [
    "# Output from conv2D layer\n",
    "# batch, output foreach filters, width, height\n",
    "# Should print torch.Size([1, 6, 32, 32])\n",
    "print(output.shape)\n",
    "\n",
    "# kernel_size = 2 to divide by 2 the features\n",
    "# stride is the steps of the windows\n",
    "pool = nn.MaxPool2d(kernel_size=2, stride=2)\n",
    "\n",
    "output = pool(output)\n",
    "\n",
    "# Should print torch.Size([1, 6, 16, 16])\n",
    "print(output.shape)"
   ],
   "metadata": {
    "collapsed": false
   },
   "execution_count": null
  },
  {
   "cell_type": "markdown",
   "source": [
    "## ShallowNet\n",
    "\n",
    "Lets creat a very simple CNN\n",
    "\n",
    "\n",
    "### Creat the network\n",
    "\n",
    "\n",
    "The network architecture can be summarized as: INPUT => CONV => RELU => FC"
   ],
   "metadata": {
    "collapsed": false
   }
  },
  {
   "cell_type": "code",
   "outputs": [],
   "source": [
    "import torch.nn.functional as F\n",
    "\n",
    "\n",
    "class ShallowNet(nn.Module):\n",
    "    def __init__(self):\n",
    "        super().__init__()\n",
    "        # Expected 32x32 images\n",
    "        # Convolutional layer\n",
    "        self.conv = nn.Conv2d(in_channels=3, out_channels=6, kernel_size=3, stride=1, padding=\"same\")\n",
    "        # Pooling layer to reduce features\n",
    "        self.pool = nn.MaxPool2d(kernel_size=2, stride=2)\n",
    "        # Last linear layer to predict the class\n",
    "        self.fc = nn.Linear(6 * 16 * 16, 10)\n",
    "\n",
    "    def forward(self, x):\n",
    "        x = self.pool(F.relu(self.conv(x)))\n",
    "        # Convert 6, 16, 16 features into 1D vector\n",
    "        x = torch.flatten(x, start_dim=1)\n",
    "        return self.fc(x)\n",
    "\n",
    "\n",
    "net = ShallowNet()\n"
   ],
   "metadata": {
    "collapsed": false
   },
   "execution_count": null
  },
  {
   "cell_type": "markdown",
   "source": [
    "### Define Loss + optimizer\n",
    "Let’s use a Classification Cross-Entropy loss and SGD with momentum."
   ],
   "metadata": {
    "collapsed": false
   }
  },
  {
   "cell_type": "code",
   "outputs": [],
   "source": [
    "import torch.optim as optim\n",
    "\n",
    "criterion = nn.CrossEntropyLoss()\n",
    "optimizer = optim.SGD(net.parameters(),\n",
    "                      lr=0.001,\n",
    "                      momentum=0.9)\n",
    "\n",
    "# Select cuda device\n",
    "device = torch.device(\"cuda\" if torch.cuda.is_available() else \"cpu\")\n",
    "print(device)"
   ],
   "metadata": {
    "collapsed": false
   },
   "execution_count": null
  },
  {
   "cell_type": "markdown",
   "source": [
    "### Train loop\n",
    "This is when things start to get interesting. We simply have to loop over our data iterator, and feed the inputs to the network and optimize."
   ],
   "metadata": {
    "collapsed": false
   }
  },
  {
   "cell_type": "code",
   "outputs": [],
   "source": [
    "epoches = 5\n",
    "\n",
    "# Load the model to cuda device in train mode\n",
    "net.to(device)\n",
    "net.train()\n",
    "# loop over the dataset multiple times\n",
    "for epoch in range(epoches):\n",
    "\n",
    "    running_loss = 0.0\n",
    "    for i, data in enumerate(trainloader, 0):\n",
    "        # get the inputs; data is a list of [inputs, labels]\n",
    "        inputs, labels = data\n",
    "        inputs = inputs.to(device)\n",
    "        labels = labels.to(device)\n",
    "\n",
    "        # zero the parameter gradients\n",
    "        optimizer.zero_grad()\n",
    "\n",
    "        # forward + backward + optimize\n",
    "        outputs = net(inputs)\n",
    "        loss = criterion(outputs, labels)\n",
    "        loss.backward()\n",
    "        optimizer.step()\n",
    "\n",
    "        # print statistics\n",
    "        running_loss += loss.item()\n",
    "        if i % 2000 == 1999:  # print every 2000 mini-batches\n",
    "            print(f'[{epoch + 1}, {i + 1:5d}] loss: {running_loss / 2000:.3f}')\n",
    "            running_loss = 0.0\n",
    "\n",
    "print('Finished Training')"
   ],
   "metadata": {
    "collapsed": false
   },
   "execution_count": null
  },
  {
   "cell_type": "code",
   "outputs": [],
   "source": [
    "for data in trainloader:\n",
    "    inputs, labels = data\n",
    "    break"
   ],
   "metadata": {
    "collapsed": false
   },
   "execution_count": null
  },
  {
   "cell_type": "code",
   "outputs": [],
   "source": [
    "print(inputs.shape)\n",
    "print(labels.shape)"
   ],
   "metadata": {
    "collapsed": false
   },
   "execution_count": null
  },
  {
   "cell_type": "markdown",
   "source": [
    "### Test the model\n",
    "Test the model on the test dataset"
   ],
   "metadata": {
    "collapsed": false
   }
  },
  {
   "cell_type": "code",
   "outputs": [],
   "source": [
    "# prepare to count predictions for each class\n",
    "correct_pred = {classname: 0 for classname in classes}\n",
    "total_pred = {classname: 0 for classname in classes}\n",
    "y_true = []\n",
    "y_pred = []\n",
    "\n",
    "net.eval()\n",
    "# again no gradients needed\n",
    "with torch.no_grad():\n",
    "    for data in testloader:\n",
    "        images, labels = data\n",
    "        images = images.to(device)\n",
    "        outputs = net(images)\n",
    "        _, predictions = torch.max(outputs, 1)\n",
    "        y_true.extend(labels)\n",
    "        # Load back the tensor to the CPU\n",
    "        y_pred.extend(predictions.cpu().numpy())\n",
    "        # collect the correct predictions for each class\n",
    "        for label, prediction in zip(labels, predictions):\n",
    "            if label == prediction:\n",
    "                correct_pred[classes[label]] += 1\n",
    "            total_pred[classes[label]] += 1\n",
    "\n",
    "# print accuracy for each class\n",
    "for classname, correct_count in correct_pred.items():\n",
    "    accuracy = 100 * float(correct_count) / total_pred[classname]\n",
    "    print(f'Accuracy for class: {classname:5s} is {accuracy:.1f} %')"
   ],
   "metadata": {
    "collapsed": false
   },
   "execution_count": null
  },
  {
   "cell_type": "code",
   "outputs": [],
   "source": [
    "print(classification_report(y_true=y_true, y_pred=y_pred, target_names=classes))"
   ],
   "metadata": {
    "collapsed": false
   },
   "execution_count": null
  }
 ],
 "metadata": {
  "colab": {
   "provenance": []
  },
  "kernelspec": {
   "name": "python3",
   "language": "python",
   "display_name": "Python 3 (ipykernel)"
  },
  "language_info": {
   "name": "python"
  }
 },
 "nbformat": 4,
 "nbformat_minor": 0
}
