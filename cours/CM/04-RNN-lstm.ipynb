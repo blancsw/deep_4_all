{
 "cells": [
  {
   "cell_type": "markdown",
   "source": [
    "# RNN (Réseaux de neurones récurrents)\n",
    "\n",
    "Un RNN (Recurrent Neural Network) peut être imaginé comme un réseau neuronal où les couches sont empilées verticalement. Chaque couche représente un moment dans le temps, et les flèches entre les couches symbolisent le passage d'informations d'un pas temporel à un autre. Une flèche entre et sort de chaque couche pour indiquer les entrées et sorties à chaque moment.\n",
    "\n",
    "Prenons un exemple : si vous souhaitez prédire la direction dans laquelle une balle se déplace. Avec seulement l'instantané affiché à l'écran, vous ne pourrez pas dire grand-chose. Mais en enregistrant plusieurs positions successives de la balle, vous aurez assez d'informations pour prédire son mouvement.\n",
    "\n",
    "![ball](./asset/ball.gif \"segment\")\n",
    "\n",
    "En résumé, les RNN permettent d'ajouter une **mémoire** à une séquence, par exemple pour comprendre comment une balle se déplace.\n",
    "\n",
    "---\n",
    "\n",
    "## Applications en texte\n",
    "\n",
    "C'est pareil avec le texte. Un texte est simplement une séquence de mots.\n",
    "Les RNN permettent de mieux apprendre les relations entre ces mots.\n",
    "\n",
    "---\n",
    "\n",
    "## La mémoire séquentielle\n",
    "\n",
    "Les RNN excellent dans le traitement des données séquentielles grâce à leur \"mémoire séquentielle\". Voici une analogie :\n",
    "\n",
    "Imaginez-vous récitant l’alphabet :\n",
    "`A B C D E F G H I J K L M N O P Q R S T U V W X Y Z`\n",
    "C'est facile, car cette séquence est ancrée dans votre mémoire depuis l’enfance.\n",
    "\n",
    "Maintenant, essayez de réciter l’alphabet **à l’envers** :\n",
    "`Z Y X W V U T S R Q P O N M L K J I H G F E D C B A`\n",
    "C'est plus difficile parce que cette séquence est moins familière.\n",
    "\n",
    "Si vous commencez à partir d’une lettre comme **F**, vous aurez peut-être du mal au début, mais dès que votre cerveau reconnaît le modèle, la suite se fait naturellement. Ce phénomène résulte de la manière dont vous avez appris : la séquence familière est plus facile à réciter.\n",
    "\n",
    "---\n",
    "\n",
    "## Les Réseaux de Neurones Récurrents\n",
    "\n",
    "Les RNN encapsulent le concept de **mémoire séquentielle**. En revanche, les réseaux neuronaux conventionnels (FFNN - Feed-Forward Neural Network) traitent les entrées indépendamment. Les RNN introduisent des boucles permettant de transmettre l’information entre différentes étapes.\n",
    "\n",
    "### Comparaison visuelle\n",
    "\n",
    "1. **Réseau feed-forward classique :**\n",
    "   ![fdd](./asset/Feed_forward_neural_net.gif \"segment\")\n",
    "\n",
    "2. **Ajout de boucles pour capturer des informations séquentielles :**\n",
    "   <img src=\"./asset/Feed_forward_rnn.gif\" alt=\"image\" width=\"auto\" height=\"500\">\n",
    "\n",
    "3. **Représentation complète des itérations :**\n",
    "   <img src=\"./asset/rnn_struct.png\" alt=\"image\" width=\"auto\" height=\"300\">\n",
    "\n",
    "---\n",
    "\n",
    "## Exemple pratique : Décodage d'une phrase\n",
    "\n",
    "Prenons la phrase : **\"Quelle heure est-il ?\"**\n",
    "\n",
    "**Étape 1 :** Tokenisation (division en séquences).\n",
    "![01](./asset/rnn01.gif \"segment\")\n",
    "\n",
    "**Étape 2 :** Injecter \"Quelle\" dans le RNN.\n",
    "![02](./asset/rnn02.gif \"segment\")\n",
    "\n",
    "**Étape 3 :** Ajouter \"heure\" avec l'état caché précédent (hidden state).\n",
    "![03](./asset/rnn03.gif \"segment\")\n",
    "\n",
    "**Étape 4 :** Répéter le processus avec tous les mots. À la dernière étape, le RNN aura appris la structure de toute la phrase.\n",
    "![04](./asset/rnn04.gif \"segment\")\n",
    "\n",
    "**Étape 5 :** Utiliser la sortie finale pour une tâche, comme une classification d’intention.\n",
    "![05](./asset/rnn05.gif \"segment\")\n",
    "\n",
    "---\n",
    "\n",
    "## Pseudo-code pour un RNN\n",
    "\n",
    "Voici une représentation pseudo-codée du fonctionnement d'un RNN :\n",
    "\n",
    "```python\n",
    "# Python\n",
    "rnn = RNN()\n",
    "ff = FeedForwardNN()\n",
    "hidden_state = [0.0, 0.0, 0.0, 0.0]\n",
    "\n",
    "for word in sentence:\n",
    "    output, hidden_state = rnn(word, hidden_state)\n",
    "\n",
    "prediction = ff(output)\n",
    "```\n",
    "\n",
    "Une opération typique dans la couche linéaire :\n",
    "![rnn_illustrated](./asset/rnn_illustrated.gif \"segment\")\n",
    "\n",
    "---\n",
    "\n",
    "## Le problème du gradient qui disparaît (Vanishing Gradient)\n",
    "\n",
    "Le problème de \"vanishing gradient\" désigne une situation où les gradients deviennent si faibles durant la rétropropagation que les poids sont à peine mis à jour, notamment dans les couches précoces. Cela se produit lorsque des gradients inférieurs à 1 sont multipliés à plusieurs reprises, diminuant exponentiellement leur valeur.\n",
    "Conséquence : difficulté à apprendre des dépendances à long terme dans les données.\n",
    "\n",
    "![rnn gradiant](./asset/rnn_gradiant.png)\n",
    "\n",
    "---\n",
    "\n",
    "## Résumé\n",
    "\n",
    "### **Avantages :**\n",
    "1. **Traitement séquentiel :** Idéal pour les séries temporelles, NLP (traitement du langage naturel), et reconnaissance vocale.\n",
    "2. **Faible coût d'inférence :** Moins gourmand en ressources que Transformateurs car les RNN traitent les séquences pas à pas.\n",
    "\n",
    "### **Inconvénients :**\n",
    "1. **Problèmes de gradient (explosion/disparition) :** Rend difficile l’apprentissage des dépendances sur une longue durée.\n",
    "2. **Dépendances à long terme :** Les RNN classiques peinent à capturer des relations distantes dans les séquences.\n",
    "3. **Pas de calcul parallèle :** À cause de leur nature séquentielle, les RNN n’exploitent pas pleinement les GPU modernes.\n",
    "\n",
    "---\n",
    "\n",
    "# Implémentation Python : Construire un RNN\n",
    "\n",
    "Nous allons développer et entraîner un RNN simple caractérisé par un apprentissage au **niveau des caractères**.\n",
    "L'objectif sera de prédire la langue d'un mot basé sur son orthographe. Les données incluront quelques milliers de noms de famille originaires de 18 langues."
   ],
   "metadata": {
    "collapsed": false
   },
   "id": "46edbf93df6d84b1"
  },
  {
   "cell_type": "code",
   "source": [
    "import glob\n",
    "import os\n",
    "import string\n",
    "import unicodedata\n",
    "from io import open\n",
    "\n",
    "all_letters = string.ascii_letters + \" .,;'\"\n",
    "\n",
    "# Nombre total de caractères possibles dans all_letters\n",
    "n_letters = len(all_letters)\n",
    "\n",
    "\n",
    "def unicodeToAscii(s):\n",
    "    \"\"\"\n",
    "    Normalise une chaîne Unicode en utilisant la normalisation NFD (sépare les accents des lettres),\n",
    "    puis filtre les caractères inutiles en conservant uniquement les lettres ASCII définies dans all_letters.\n",
    "    Référence utile : https://stackoverflow.com/a/518232/2809427\n",
    "    :param s: Chaîne Unicode à convertir.\n",
    "    :return: Chaîne convertie en ASCII \"pur\".\n",
    "    \"\"\"\n",
    "    return ''.join(\n",
    "            # Normalise et retire les accents ou autres modifications associées\n",
    "            c for c in unicodedata.normalize('NFD', s)\n",
    "            # Vérifie que le caractère n'est pas dans la catégorie 'Mn' (non-spacing marks, comme les accents)\n",
    "            if unicodedata.category(c) != 'Mn'\n",
    "            # Retient uniquement les caractères présents dans all_letters\n",
    "            and c in all_letters\n",
    "            )\n",
    "\n",
    "\n",
    "def readLines(filename):\n",
    "    \"\"\"\n",
    "    Lit un fichier texte ligne par ligne, enlève les espaces inutiles,\n",
    "    puis convertit chaque ligne avec `unicodeToAscii` pour garantir des caractères en ASCII.\n",
    "    :param filename: Nom ou chemin du fichier texte.\n",
    "    :return: Liste des lignes converties et nettoyées.\n",
    "    \"\"\"\n",
    "    lines = open(filename, encoding='utf-8').read().strip().split('\\n')\n",
    "    # Convertit chaque ligne du fichier en ASCII\n",
    "    return [unicodeToAscii(line) for line in lines]\n",
    "\n",
    "\n",
    "# Ce dictionnaire contiendra les listes de prénoms catégorisées par langue (exemple : 'French': [prénom1, prénom2, ...])\n",
    "category_lines = {}\n",
    "\n",
    "# Cette liste contiendra les noms de toutes les catégories (langues)\n",
    "all_categories = []\n",
    "\n",
    "dataset_path = '../dataset/names/names/*.txt'\n",
    "\n",
    "for filename in glob.glob(dataset_path):\n",
    "    # Récupère le nom du fichier sans l'extension (ex : 'french' pour 'french.txt')\n",
    "    category = os.path.splitext(os.path.basename(filename))[0]\n",
    "    all_categories.append(category)\n",
    "    lines = readLines(filename)\n",
    "    category_lines[category] = lines\n",
    "\n",
    "n_categories = len(all_categories)\n",
    "\n",
    "print(\"findFiles\", glob.glob(dataset_path))\n",
    "\n",
    "# Exemple de normalisation : Affiche la conversion Unicode vers ASCII pour un nom particulier\n",
    "print(\"unicodeToAscii\", unicodeToAscii('Ślusàrski'))"
   ],
   "metadata": {
    "collapsed": false,
    "ExecuteTime": {
     "end_time": "2025-02-07T12:17:45.789816Z",
     "start_time": "2025-02-07T12:17:45.694273Z"
    }
   },
   "id": "603bdabb1f9d0661",
   "outputs": [
    {
     "name": "stdout",
     "output_type": "stream",
     "text": [
      "findFiles ['../dataset/names/names/Arabic.txt', '../dataset/names/names/Chinese.txt', '../dataset/names/names/Czech.txt', '../dataset/names/names/Dutch.txt', '../dataset/names/names/English.txt', '../dataset/names/names/French.txt', '../dataset/names/names/German.txt', '../dataset/names/names/Greek.txt', '../dataset/names/names/Irish.txt', '../dataset/names/names/Italian.txt', '../dataset/names/names/Japanese.txt', '../dataset/names/names/Korean.txt', '../dataset/names/names/Polish.txt', '../dataset/names/names/Portuguese.txt', '../dataset/names/names/Russian.txt', '../dataset/names/names/Scottish.txt', '../dataset/names/names/Spanish.txt', '../dataset/names/names/Vietnamese.txt']\n",
      "unicodeToAscii Slusarski\n"
     ]
    }
   ],
   "execution_count": 1
  },
  {
   "metadata": {
    "ExecuteTime": {
     "end_time": "2025-02-03T07:53:12.939742Z",
     "start_time": "2025-02-03T07:53:12.934854Z"
    }
   },
   "cell_type": "code",
   "source": [
    "print(category_lines['Italian'][:5])\n",
    "print(\"Number of categories:\", n_categories)\n",
    "print(\"Number of letters:\", n_letters)"
   ],
   "id": "50608eac6a1601d3",
   "outputs": [
    {
     "name": "stdout",
     "output_type": "stream",
     "text": [
      "['Abandonato', 'Abatangelo', 'Abatantuono', 'Abate', 'Abategiovanni']\n",
      "Number of categories: 18\n",
      "Number of letters: 57\n"
     ]
    }
   ],
   "execution_count": 6
  },
  {
   "cell_type": "markdown",
   "source": [
    "## Transformer les noms en tokens\n",
    "\n",
    "Comme nous l'avons vu dans les tutoriels précédents, il est nécessaire de convertir les lettres en tenseurs (vecteurs) à l'aide d'une couche d'embedding.\n",
    "Ainsi, nous devons transformer chaque lettre en identifiant (ID)."
   ],
   "metadata": {
    "collapsed": false
   },
   "id": "4eff020dc6e350e4"
  },
  {
   "cell_type": "code",
   "source": [
    "letter_to_id = {l: i for i, l in enumerate(all_letters)}\n",
    "id_to_letter = {i: l for i, l in enumerate(all_letters)}\n",
    "print(letter_to_id)"
   ],
   "metadata": {
    "collapsed": false,
    "ExecuteTime": {
     "end_time": "2025-02-03T07:53:14.512407Z",
     "start_time": "2025-02-03T07:53:14.505028Z"
    }
   },
   "id": "3241ba01c630f3a1",
   "outputs": [
    {
     "name": "stdout",
     "output_type": "stream",
     "text": [
      "{'a': 0, 'b': 1, 'c': 2, 'd': 3, 'e': 4, 'f': 5, 'g': 6, 'h': 7, 'i': 8, 'j': 9, 'k': 10, 'l': 11, 'm': 12, 'n': 13, 'o': 14, 'p': 15, 'q': 16, 'r': 17, 's': 18, 't': 19, 'u': 20, 'v': 21, 'w': 22, 'x': 23, 'y': 24, 'z': 25, 'A': 26, 'B': 27, 'C': 28, 'D': 29, 'E': 30, 'F': 31, 'G': 32, 'H': 33, 'I': 34, 'J': 35, 'K': 36, 'L': 37, 'M': 38, 'N': 39, 'O': 40, 'P': 41, 'Q': 42, 'R': 43, 'S': 44, 'T': 45, 'U': 46, 'V': 47, 'W': 48, 'X': 49, 'Y': 50, 'Z': 51, ' ': 52, '.': 53, ',': 54, ';': 55, \"'\": 56}\n"
     ]
    }
   ],
   "execution_count": 7
  },
  {
   "cell_type": "code",
   "source": [
    "from typing import List\n",
    "\n",
    "\n",
    "def tokenizer(text: str) -> List[int]:\n",
    "    \"\"\"\n",
    "    split un text en character, et les convertis en ids\n",
    "    Args:\n",
    "        text: text a tokneizer\n",
    "\n",
    "    Returns:\n",
    "\n",
    "    \"\"\"\n",
    "    return [letter_to_id[letter] for letter in text]\n",
    "\n",
    "\n",
    "tokenizer('Bob')"
   ],
   "metadata": {
    "collapsed": false,
    "ExecuteTime": {
     "end_time": "2025-02-03T07:53:15.895870Z",
     "start_time": "2025-02-03T07:53:15.887624Z"
    }
   },
   "id": "e785e4882db3e2bf",
   "outputs": [
    {
     "data": {
      "text/plain": [
       "[27, 14, 1]"
      ]
     },
     "execution_count": 8,
     "metadata": {},
     "output_type": "execute_result"
    }
   ],
   "execution_count": 8
  },
  {
   "cell_type": "markdown",
   "source": [
    "## Création du Réseau\n",
    "Pour simplifier cet exemple, nous utilisons des lots de données au format `[taille du lot, longueur de la séquence]`.\n",
    "Cependant, nous ne passerons qu'une seule séquence (un seul nom) à travers le modèle."
   ],
   "metadata": {
    "collapsed": false
   },
   "id": "f8bfa4ac4db083dd"
  },
  {
   "cell_type": "code",
   "source": [
    "import torch.nn as nn\n",
    "import torch\n",
    "\n",
    "\n",
    "# Cette classe implémente un réseau récurrent de base (RNN) pour traiter des séquences d'entrée.\n",
    "class RNN(nn.Module):\n",
    "    def __init__(self, vocab_size, hidden_size, output_size):\n",
    "        \"\"\"\n",
    "        :param vocab_size: Taille du vocabulaire (nombre total de tokens dans la séquence)\n",
    "        :param hidden_size: Taille de la couche cachée ainsi que celle de l'espace d'embedding\n",
    "        :param output_size: Nombre de classes dans le jeu de données (par exemple, pour la classification)\n",
    "        \"\"\"\n",
    "        super(RNN, self).__init__()\n",
    "        self.hidden_size = hidden_size\n",
    "\n",
    "        # Initialisation d'une couche d'embedding (embedding layer).\n",
    "        # Cette couche mappe chaque token d'entrée (représenté par un indice) à un vecteur dense de taille `hidden_size`.\n",
    "        self.embedding = nn.Embedding(vocab_size, hidden_size)\n",
    "\n",
    "        # Définition de la couche linéaire `i2h`, qui combine l'entrée courante (embedding)\n",
    "        # et l'état caché précédent pour calculer le nouvel état caché.\n",
    "        self.i2h = nn.Linear(hidden_size + hidden_size, hidden_size)\n",
    "\n",
    "        # Définition de la couche linéaire `h2o`, qui mappe l'état caché courant à un vecteur de taille `output_size`.\n",
    "        # Ce vecteur représente les scores pour chaque classe possible.\n",
    "        self.h2o = nn.Linear(hidden_size, output_size)\n",
    "\n",
    "    def forward(self, input_ids, hidden=None):\n",
    "        \"\"\"\n",
    "        :param input_ids: Séquence d'IDs correspondant aux tokens [seq_len]\n",
    "        :param hidden: (optionnel) État caché de la couche précédente (si fourni, sinon il est initialisé à zéro)\n",
    "        :return: Un tuple composé de la sortie prédite [output_size] et du nouvel état caché [hidden_size]\n",
    "        \"\"\"\n",
    "        # Applique la couche d'embedding à l'entrée :\n",
    "        # convertit chaque token ID de la séquence en un vecteur dense.\n",
    "        # La taille résultante est [seq_len, embedding_dim]\n",
    "        embedding = self.embedding(input_ids)\n",
    "\n",
    "        # Si aucun état caché préalable n'est fourni, on l'initialise avec des zéros.\n",
    "        hidden = self.initHidden() if hidden is None else hidden\n",
    "\n",
    "        # Boucle sur chaque token de la séquence (dimension 0 de l'embedding).\n",
    "        for i in range(embedding.shape[0]):\n",
    "            # On concatène l'embedding courant (`embedding[i]`) avec l'état caché précédent\n",
    "            # pour former un vecteur combiné [emb_dim + hidden_size].\n",
    "            combined = torch.cat((embedding[i], hidden), 0)\n",
    "\n",
    "            # Calcul du nouvel état caché en passant le vecteur combiné dans la couche linéaire `i2h`.\n",
    "            hidden = self.i2h(combined)\n",
    "\n",
    "            # Applique la fonction d'activation tanh à l'état caché pour limiter les valeurs dans\n",
    "            # l'intervalle [-1, 1]. Cela aide à éviter les problèmes liés aux gradients explosifs (exploding gradients).\n",
    "            hidden = torch.tanh(hidden)\n",
    "\n",
    "            # Calcul de la sortie en passant l'état caché actuel dans la couche linéaire `h2o`.\n",
    "            # La sortie est un vecteur de taille `output_size`.\n",
    "            output = self.h2o(hidden)\n",
    "\n",
    "        # On ajoute une dimension supplémentaire à la sortie afin de l'utiliser avec une fonction de perte\n",
    "        # qui peut attendre une structure tensorielle spécifique.\n",
    "        return output.unsqueeze(0), hidden\n",
    "\n",
    "    def initHidden(self):\n",
    "        # Initialisation de l'état caché avec des zéros (ne nécessite pas de gradients).\n",
    "        # Cette méthode est appelée au début d'une nouvelle séquence si aucun état caché n'est fourni.\n",
    "        return torch.zeros(self.hidden_size, requires_grad=False)"
   ],
   "metadata": {
    "collapsed": false,
    "ExecuteTime": {
     "end_time": "2025-02-03T07:58:33.233118Z",
     "start_time": "2025-02-03T07:58:29.452594Z"
    }
   },
   "id": "6559fd51eb95457f",
   "outputs": [],
   "execution_count": 9
  },
  {
   "metadata": {},
   "cell_type": "markdown",
   "source": "## Test de notre RNN",
   "id": "4864288c71661bb5"
  },
  {
   "cell_type": "code",
   "source": [
    "n_hidden = 128\n",
    "rnn = RNN(n_letters, n_hidden, n_categories)\n",
    "\n",
    "# 1 - On tokenize notre text\n",
    "tokens = torch.tensor(tokenizer('Bob'))\n",
    "print(\"tokens\", tokens)\n",
    "\n",
    "# 2 - On crée notre premier hidden state\n",
    "hidden = torch.zeros(n_hidden)\n",
    "\n",
    "# 3 - On passe dans notre RNN\n",
    "output, next_hidden = rnn(tokens, hidden)\n",
    "print(\"next_hidden\", next_hidden.shape)\n",
    "print(\"output\", output.shape)"
   ],
   "metadata": {
    "collapsed": false,
    "ExecuteTime": {
     "end_time": "2025-02-03T07:58:49.266730Z",
     "start_time": "2025-02-03T07:58:49.251712Z"
    }
   },
   "id": "54ddb2d841608b19",
   "outputs": [
    {
     "name": "stdout",
     "output_type": "stream",
     "text": [
      "tokens tensor([27, 14,  1])\n",
      "next_hidden torch.Size([128])\n",
      "output torch.Size([1, 18])\n"
     ]
    }
   ],
   "execution_count": 11
  },
  {
   "metadata": {},
   "cell_type": "markdown",
   "source": [
    "**Note** avec la variable `next_hidden` nous pouvons l'utilisez afin d'empiller un autre RNN par dessus\n",
    "\n",
    "![stack rnn](./asset/stack_rnn.png)"
   ],
   "id": "138da3df29e91f7"
  },
  {
   "cell_type": "code",
   "source": [
    "def categoryFromOutput(output: torch.tensor):\n",
    "    \"\"\"\n",
    "    Obtention de notre categorie a partir de l'output\n",
    "    Args:\n",
    "        output: output de notre RNN\n",
    "\n",
    "    Returns:\n",
    "\n",
    "    \"\"\"\n",
    "    top_n, top_i = output.topk(1)\n",
    "    category_i = top_i[0].item()\n",
    "    return all_categories[category_i], category_i\n",
    "\n",
    "\n",
    "# Get the category from the output\n",
    "print(categoryFromOutput(output))"
   ],
   "metadata": {
    "collapsed": false,
    "ExecuteTime": {
     "end_time": "2025-02-03T08:00:39.660309Z",
     "start_time": "2025-02-03T08:00:39.641140Z"
    }
   },
   "id": "fff6b7b9423e109d",
   "outputs": [
    {
     "name": "stdout",
     "output_type": "stream",
     "text": [
      "('Greek', 7)\n"
     ]
    }
   ],
   "execution_count": 12
  },
  {
   "cell_type": "markdown",
   "source": "We will also want a quick way to get a training example (a name and its language):",
   "metadata": {
    "collapsed": false
   },
   "id": "4955c226bb2ccdf"
  },
  {
   "cell_type": "markdown",
   "source": [
    "## Train model\n",
    "\n",
    "Each loop of training will:\n",
    "- Create input tokens\n",
    "- Create a zeroed initial hidden state\n",
    "- Read each letter in and\n",
    "    - Keep hidden state for next letter\n",
    "- Compare final output to target\n",
    "- Back-propagate\n",
    "- Return the output and loss"
   ],
   "metadata": {
    "collapsed": false
   },
   "id": "28ab1368f586a32b"
  },
  {
   "metadata": {
    "collapsed": false,
    "ExecuteTime": {
     "end_time": "2025-02-03T08:08:45.531695Z",
     "start_time": "2025-02-03T08:08:45.522804Z"
    }
   },
   "cell_type": "code",
   "source": [
    "import random  # Importation du module random pour la génération de nombres aléatoires\n",
    "\n",
    "\n",
    "def randomChoice(l):\n",
    "    \"\"\"\n",
    "    Choisit un élément aléatoire dans une liste donnée.\n",
    "    :param l: Liste d'éléments parmi lesquels effectuer une sélection.\n",
    "    :return: Un élément choisi au hasard dans la liste.\n",
    "    \"\"\"\n",
    "    return l[random.randint(0, len(l) - 1)]\n",
    "\n",
    "\n",
    "def randomTrainingExample():\n",
    "    \"\"\"\n",
    "    Génère un exemple d'entraînement aléatoire pour un modèle.\n",
    "    :return: Un tuple contenant :\n",
    "        - la catégorie sélectionnée aléatoirement,\n",
    "        - une ligne associée à cette catégorie (elle aussi choisie aléatoirement),\n",
    "        - la représentation tensorielle de la catégorie (category_tensor),\n",
    "        - la représentation tensorielle des ID des tokens générés à partir de la ligne (input_ids).\n",
    "    :rtype: tuple\n",
    "    \"\"\"\n",
    "    # Sélection aléatoire d'une catégorie depuis la liste globale `all_categories`\n",
    "    category = randomChoice(all_categories)\n",
    "\n",
    "    # Sélection aléatoire d'une ligne associée à cette catégorie (provenant de `category_lines`)\n",
    "    line = randomChoice(category_lines[category])\n",
    "\n",
    "    # Conversion de la catégorie en un tenseur PyTorch :\n",
    "    category_tensor = torch.tensor([all_categories.index(category)], dtype=torch.long)\n",
    "\n",
    "    # Tokenisation de la ligne :\n",
    "    # La fonction `tokenizer` transforme la ligne en une liste d'identifiants numériques,\n",
    "    # qui est ensuite convertie en un tenseur PyTorch.\n",
    "    # Cela permet de préparer les données pour l'entrée dans un réseau de neurones.\n",
    "    return category, line, category_tensor, torch.tensor(tokenizer(line))\n",
    "\n",
    "\n",
    "# Boucle pour générer 10 exemples d'entraînement aléatoires et les afficher\n",
    "for i in range(10):\n",
    "    # Appel de la fonction `randomTrainingExample` pour obtenir un exemple\n",
    "    category, line, category_tensor, input_ids = randomTrainingExample()\n",
    "\n",
    "    # Affiche la catégorie, la ligne et les identifiants des tokens générés\n",
    "    print('category =', category, '/ line =', line, '/ input_ids =', input_ids)"
   ],
   "id": "d52301f077809664",
   "outputs": [
    {
     "name": "stdout",
     "output_type": "stream",
     "text": [
      "category = Russian / line = Makhalov / input_ids = tensor([38,  0, 10,  7,  0, 11, 14, 21])\n",
      "category = Italian / line = Parisi / input_ids = tensor([41,  0, 17,  8, 18,  8])\n",
      "category = Korean / line = Nam / input_ids = tensor([39,  0, 12])\n",
      "category = Dutch / line = Kolijn / input_ids = tensor([36, 14, 11,  8,  9, 13])\n",
      "category = Spanish / line = Gonzales / input_ids = tensor([32, 14, 13, 25,  0, 11,  4, 18])\n",
      "category = Dutch / line = Klerken / input_ids = tensor([36, 11,  4, 17, 10,  4, 13])\n",
      "category = German / line = Kunkel / input_ids = tensor([36, 20, 13, 10,  4, 11])\n",
      "category = Spanish / line = Alvarez / input_ids = tensor([26, 11, 21,  0, 17,  4, 25])\n",
      "category = Russian / line = Vylko / input_ids = tensor([47, 24, 11, 10, 14])\n",
      "category = English / line = Kidd / input_ids = tensor([36,  8,  3,  3])\n"
     ]
    }
   ],
   "execution_count": 15
  },
  {
   "cell_type": "code",
   "source": [
    "import time\n",
    "import math\n",
    "\n",
    "# Déclaration du nombre d'itérations pour l'entraînement.\n",
    "n_iters = 50000\n",
    "\n",
    "print_every = 5000\n",
    "\n",
    "current_loss = 0.0\n",
    "all_losses = []\n",
    "\n",
    "learning_rate = 0.01\n",
    "\n",
    "# Définition de la fonction de perte (loss function) : CrossEntropyLoss est adaptée pour un problème\n",
    "# de classification où les sorties du modèle représentent des probabilités par catégorie (distribution softmax).\n",
    "criterion = nn.CrossEntropyLoss()\n",
    "\n",
    "# Taille de l'état caché (hidden size) pour le RNN, soit la dimension de la mémoire persistante.\n",
    "n_hidden = 128\n",
    "\n",
    "# Initialisation du modèle RNN, avec des dimensions pour l'entrée (n_letters),\n",
    "# l'état caché (n_hidden) et les sorties (n_categories).\n",
    "rnn = RNN(n_letters, n_hidden, n_categories)\n",
    "\n",
    "# Définition de l'optimiseur : l'algorithme Stochastic Gradient Descent est utilisé ici\n",
    "# avec un facteur de moment (momentum) pour stabiliser les mises à jour.\n",
    "optimizer = torch.optim.SGD(rnn.parameters(), lr=learning_rate, momentum=0.9)\n",
    "\n",
    "device = torch.device(\"cuda\" if torch.cuda.is_available() else \"cpu\")\n",
    "print(device)\n",
    "\n",
    "rnn = rnn.to(device)\n",
    "rnn.train()\n",
    "\n",
    "\n",
    "def timeSince(since):\n",
    "    now = time.time()\n",
    "    s = now - since\n",
    "    m = math.floor(s / 60)\n",
    "    s -= m * 60\n",
    "    return '%dm %ds' % (m, s)\n",
    "\n",
    "\n",
    "start = time.time()\n",
    "for iter in range(1, n_iters + 1):\n",
    "\n",
    "    # Création d'un exemple d'apprentissage aléatoire en récupérant une catégorie,\n",
    "    # une ligne de texte, son tenseur de catégorie et les identifiants des tokens d'entrée.\n",
    "    category, line, category_tensor, input_ids = randomTrainingExample()\n",
    "\n",
    "    # Transfert des tenseurs d'entrée et de catégorie vers le dispositif\n",
    "    # (CPU ou GPU, selon ce qui a été défini auparavant).\n",
    "    input_ids = input_ids.to(device)\n",
    "    category_tensor = category_tensor.to(device)\n",
    "\n",
    "    # Initialisation de l'état caché du RNN (pour le début d'une nouvelle séquence)\n",
    "    hidden = rnn.initHidden().to(device)\n",
    "\n",
    "    # Réinitialisation des gradients avant chaque passage en forward et backward.\n",
    "    # Ceci est une étape essentielle car PyTorch accumule les gradients au lieu de\n",
    "    # les écraser à chaque appel à `backward()`.\n",
    "    rnn.zero_grad()\n",
    "\n",
    "    # Calcul de l'output du modèle RNN en passant les identifiants d'entrée (input_ids)\n",
    "    # et l'état caché initialisé.\n",
    "    output, hidden = rnn(input_ids, hidden)\n",
    "\n",
    "    # Calcul de la perte (loss) entre les sorties prédites par le modèle `output`\n",
    "    # et la vérité terrain (category_tensor). La fonction criterion (CrossEntropyLoss)\n",
    "    # calcule cette différence.\n",
    "    loss = criterion(output, category_tensor)\n",
    "\n",
    "    # Calcul des gradients par backpropagation : cette étape met à jour les gradients\n",
    "    # des poids du modèle en fonction de la perte calculée.\n",
    "    loss.backward()\n",
    "\n",
    "    # Application de la technique de clipping des gradients pour éviter le problème\n",
    "    # des gradients explosifs. En s'assurant que les gradients sont limités à une norme maximale\n",
    "    # (max_norm=1.0 ici), l'entraînement devient plus stable, surtout pour les RNN. qui cummuble a plusieur reprise les hiddens state\n",
    "    torch.nn.utils.clip_grad_norm_(rnn.parameters(), max_norm=1.0)\n",
    "\n",
    "    # Mise à jour des poids du modèle en utilisant l'optimiseur défini préalablement (SGD).\n",
    "    # Les poids sont ajustés selon les gradients calculés lors de `loss.backward()` et le taux d'apprentissage.\n",
    "    optimizer.step()\n",
    "\n",
    "    # Accumulation de la perte courante pour calcul d'une moyenne sur une période donnée (print_every).\n",
    "    current_loss += loss.item()\n",
    "\n",
    "    # Affichage des métriques d'entraînement périodiquement (tous les `print_every` itérations).\n",
    "    if iter % print_every == 0:\n",
    "        # Ajout de la perte moyenne des dernières périodes à la liste `all_losses`\n",
    "        # pour analyse ou visualisation ultérieure.\n",
    "        all_losses.append(current_loss / print_every)\n",
    "\n",
    "        # Affichage du numéro d’itération et de la perte moyenne.\n",
    "        print(f'  iter {iter} loss: {current_loss / print_every:.3f}')\n",
    "\n",
    "        # Réinitialisation de la perte cumulée après chaque affichage.\n",
    "        current_loss = 0.0"
   ],
   "metadata": {
    "collapsed": false,
    "ExecuteTime": {
     "end_time": "2025-02-03T08:32:36.417098Z",
     "start_time": "2025-02-03T08:27:06.770724Z"
    }
   },
   "id": "507d57430555ba11",
   "outputs": [
    {
     "name": "stdout",
     "output_type": "stream",
     "text": [
      "cuda\n",
      "  iter 5000 loss: 2.027\n",
      "  iter 10000 loss: 1.646\n",
      "  iter 15000 loss: 1.513\n",
      "  iter 20000 loss: 1.358\n",
      "  iter 25000 loss: 1.257\n",
      "  iter 30000 loss: 1.199\n",
      "  iter 35000 loss: 1.040\n",
      "  iter 40000 loss: 1.023\n",
      "  iter 45000 loss: 0.917\n",
      "  iter 50000 loss: 0.870\n",
      "  iter 55000 loss: 0.780\n",
      "  iter 60000 loss: 0.753\n",
      "  iter 65000 loss: 0.791\n",
      "  iter 70000 loss: 0.727\n",
      "  iter 75000 loss: 0.764\n",
      "  iter 80000 loss: 0.751\n",
      "  iter 85000 loss: 0.683\n",
      "  iter 90000 loss: 0.658\n",
      "  iter 95000 loss: 0.630\n",
      "  iter 100000 loss: 0.649\n",
      "  iter 105000 loss: 0.634\n"
     ]
    }
   ],
   "execution_count": 16
  },
  {
   "cell_type": "markdown",
   "source": [
    "Plot results"
   ],
   "metadata": {
    "collapsed": false
   },
   "id": "826cca924d995d19"
  },
  {
   "cell_type": "code",
   "source": [
    "import matplotlib.pyplot as plt\n",
    "\n",
    "plt.figure()\n",
    "plt.plot(all_losses)"
   ],
   "metadata": {
    "collapsed": false,
    "ExecuteTime": {
     "end_time": "2025-02-03T08:35:50.044198Z",
     "start_time": "2025-02-03T08:35:48.985949Z"
    }
   },
   "id": "448b42f08576ed01",
   "outputs": [
    {
     "data": {
      "text/plain": [
       "[<matplotlib.lines.Line2D at 0x7f52014b1f10>]"
      ]
     },
     "execution_count": 17,
     "metadata": {},
     "output_type": "execute_result"
    },
    {
     "data": {
      "text/plain": [
       "<Figure size 640x480 with 1 Axes>"
      ],
      "image/png": "[encoded data removed]"
     },
     "metadata": {},
     "output_type": "display_data"
    }
   ],
   "execution_count": 17
  },
  {
   "cell_type": "code",
   "source": [
    "import matplotlib.ticker as ticker\n",
    "\n",
    "# Création d'une matrice de confusion pour suivre les prédictions correctes et incorrectes\n",
    "# Initialise une matrice contenant uniquement des zéros (taille : n_categories x n_categories)\n",
    "confusion = torch.zeros(n_categories,\n",
    "                        n_categories)\n",
    "n_confusion = 10000  # Nombre d'exemples à traiter pour la création de la matrice de confusion\n",
    "softmax = nn.LogSoftmax(dim=1)  # Softmax appliqué sur la dernière dimension (probabilité log des classes)\n",
    "rnn.eval()  # Met le RNN en mode évaluation (désactivation du dropout et fonctions spécifiques à l'entraînement)\n",
    "\n",
    "# Parcourir plusieurs exemples pour enregistrer les classifications correctes et incorrectes\n",
    "for i in range(n_confusion):\n",
    "    # Obtenir un exemple d'entraînement aléatoire\n",
    "    category, line, category_tensor, input_ids = randomTrainingExample()\n",
    "\n",
    "    # Initialisation de l'état caché avec des zéros pour le début d'une nouvelle séquence.\n",
    "    hidden = rnn.initHidden().to(device)\n",
    "    input_ids = input_ids.to(device)\n",
    "\n",
    "    # Passage de la séquence dans le réseau RNN\n",
    "    output, hidden = rnn(input_ids, hidden)\n",
    "\n",
    "    # Extraction de la catégorie prédite à partir de la sortie du modèle\n",
    "    # La fonction categoryFromOutput utilise le résultat du softmax pour déterminer la classe prédite\n",
    "    guess, guess_i = categoryFromOutput(softmax(output))  # guess_i : index de la catégorie prédite\n",
    "    category_i = all_categories.index(category)  # Index réel de la catégorie associée à l'exemple\n",
    "\n",
    "    # Mise à jour de la matrice de confusion :\n",
    "    # Les prédictions sont enregistrées en incrémentant la case correspondant à la catégorie réelle (ligne) et prédite (colonne)\n",
    "    confusion[category_i][guess_i] += 1\n",
    "\n",
    "# Normalisation de la matrice de confusion :\n",
    "for i in range(n_categories):\n",
    "    confusion[i] = confusion[i] / confusion[i].sum()\n",
    "\n",
    "# Configuration du graphique pour visualiser la matrice de confusion\n",
    "fig = plt.figure()  # Création d'une figure\n",
    "ax = fig.add_subplot(111)  # Ajout d'un subplot (graphe principal)\n",
    "cax = ax.matshow(confusion.numpy())  # Affichage des valeurs de la matrice de confusion sous forme de heatmap\n",
    "fig.colorbar(cax)  # Ajout d'une barre de couleurs pour indiquer l'échelle\n",
    "\n",
    "# Configuration des axes du graphique\n",
    "ax.set_xticklabels([''] + all_categories,\n",
    "                   rotation=90)  # Ajout des noms des catégories sur l'axe des abscisses ; rotation verticale pour lisibilité\n",
    "ax.set_yticklabels([''] + all_categories)  # Ajout des noms des catégories sur l'axe des ordonnées\n",
    "\n",
    "# Forcer l'affichage d'un tick à chaque élément (une catégorie par ligne/colonne)\n",
    "ax.xaxis.set_major_locator(ticker.MultipleLocator(1))  # Espacement régulier de 1 tick par catégorie\n",
    "ax.yaxis.set_major_locator(ticker.MultipleLocator(1))\n",
    "\n",
    "# Affichage du graphique\n",
    "plt.show()"
   ],
   "metadata": {
    "collapsed": false,
    "ExecuteTime": {
     "end_time": "2025-02-03T08:40:48.151720Z",
     "start_time": "2025-02-03T08:40:36.993149Z"
    }
   },
   "id": "99f395bde03c516b",
   "outputs": [
    {
     "name": "stderr",
     "output_type": "stream",
     "text": [
      "/tmp/ipykernel_9/119051227.py:43: UserWarning: set_ticklabels() should only be used with a fixed number of ticks, i.e. after set_ticks() or using a FixedLocator.\n",
      "  ax.set_xticklabels([''] + all_categories,\n",
      "/tmp/ipykernel_9/119051227.py:45: UserWarning: set_ticklabels() should only be used with a fixed number of ticks, i.e. after set_ticks() or using a FixedLocator.\n",
      "  ax.set_yticklabels([''] + all_categories)  # Ajout des noms des catégories sur l'axe des ordonnées\n"
     ]
    },
    {
     "data": {
      "text/plain": [
       "<Figure size 640x480 with 2 Axes>"
      ],
      "image/png": "[encoded data removed]"
     },
     "metadata": {},
     "output_type": "display_data"
    }
   ],
   "execution_count": 19
  },
  {
   "cell_type": "markdown",
   "source": [
    "# LSTM en 5 minutes\n",
    "[ressources](https://towardsdatascience.com/illustrated-guide-to-lstms-and-gru-s-a-step-by-step-explanation-44e9eb85bf21)\n",
    "\n",
    "## Introduction\n",
    "Les Long Short-Term Memory (LSTM) sont une architecture spécifique des réseaux neuronaux récurrents (RNN) conçue pour mémoriser de longues séquences de données. Cela les rend très performants pour des tâches comme la prédiction de séries temporelles, le traitement du langage naturel, et d'autres applications séquentielles.\n",
    "\n",
    "Un réseau neuronal récurrent (RNN) fonctionne en conservant une forme de mémoire en traitant des séquences. Cela se fait via une boucle au sein du réseau qui permet de transférer des informations d'une étape de la séquence à l'autre.\n",
    "\n",
    "Les LSTMs améliorent la structure de base des RNN grâce à une unité récurrente plus complexe qui contrôle plus efficacement le flux d'information. Ils résolvent ainsi le problème de **dépendances à long terme**, une limitation des RNN classiques. C'est pourquoi ils sont souvent utilisés en deep learning pour résoudre des problèmes séquentiels complexes.\n",
    "\n",
    "![lstm](./asset/lstm.png)\n",
    "\n",
    "---\n",
    "\n",
    "## Forget gate (Porte d’oubli)\n",
    "**Décide quelles informations garder ou oublier**\n",
    "\n",
    "La porte d’oubli détermine quelles informations doivent être conservées ou effacées. Les informations sont issues de l’état caché précédent et de l'entrée à l'instant actuel. Ces données passent par une fonction sigmoïde qui transforme les valeurs entre `0` (oublier) et `1` (garder).\n",
    "\n",
    "![forget](./asset/lstm_forget.gif \"segment\")\n",
    "\n",
    "---\n",
    "\n",
    "## Input gate (Porte d’entrée)\n",
    "**Ajoute les informations pertinentes issues de l’étape actuelle**\n",
    "\n",
    "Pour mettre à jour l’état interne (cell state), on utilise la porte d’entrée. Deux opérations ont lieu :\n",
    "1. Les valeurs de l'état caché précédent et de l’entrée actuelle passent dans une fonction sigmoïde pour déterminer les informations importantes (sortant entre `0` et `1`).\n",
    "2. Simultanément, ces mêmes valeurs passent dans une fonction `tanh`, qui les limite entre `-1` et `1`.\n",
    "\n",
    "Ces deux sorties (sigmoïde et tanh) sont multipliées. La sortie de `sigmoïde` décide des informations importantes venant de la sortie de `tanh`.\n",
    "\n",
    "![input](./asset/lstm_input.gif \"segment\")\n",
    "\n",
    "---\n",
    "\n",
    "## Cell State (État de la cellule)\n",
    "**Combine les informations de l’entrée et de l’oubli**\n",
    "\n",
    "L’état interne est mis à jour en deux étapes :\n",
    "1. L’état interne précédent est multiplié élément par élément avec le vecteur de la porte d’oubli. Cela permet de supprimer des valeurs jugées non pertinentes.\n",
    "2. Ensuite, les nouvelles informations issues de la porte d’entrée (multiplication de sigmoïde et tanh) sont ajoutées élément par élément, créant un nouvel état interne.\n",
    "\n",
    "![cell](./asset/lstm_cell.gif \"segment\")\n",
    "\n",
    "---\n",
    "\n",
    "## Output gate (Porte de sortie)\n",
    "**Détermine le nouvel état caché**\n",
    "\n",
    "La porte de sortie décide du nouvel état caché basé sur deux éléments :\n",
    "1. Les valeurs de l’état caché précédent et de l’entrée actuelle passent par une fonction sigmoïde.\n",
    "2. L’état interne modifié passe par une fonction `tanh`.\n",
    "\n",
    "Les sorties de ces deux fonctions sont multipliées élément par élément pour générer le nouvel état caché. Ce dernier contient des informations résumées des étapes précédentes et est utilisé pour faire des prédictions. Le nouvel état caché ainsi que le nouvel état interne sont ensuite transférés à l’étape suivante.\n",
    "\n",
    "![ouput](./asset/lstm_output.gif \"segment\")\n",
    "\n",
    "---\n",
    "\n",
    "## Code\n",
    "**Exemple de pseudocode pour illustrer un LSTM :**\n",
    "![lstm_code](./asset/lstm_pseudo_code.png)\n",
    "\n",
    "### Étapes principales dans un LSTM :\n",
    "1. L’état caché précédent et l’entrée actuelle sont **concaténés**. On appelle ce résultat `combine`.\n",
    "2. `Combine` est passé dans une **porte d’oubli**, supprimant les données peu pertinentes.\n",
    "3. Une **couche candidate** est créée à partir de `combine`, contenant les valeurs possibles à ajouter à l’état interne.\n",
    "4. `Combine` passe également dans une **porte d’entrée**, qui détermine quelles données de la couche candidate doivent être ajoutées à l’état interne.\n",
    "5. L’état interne est mise à jour en combinant les sorties des portes d’entrée, d’oubli et l’état interne précédent.\n",
    "6. La sortie est finalement calculée.\n",
    "7. La sortie multipliée par l’état interne nouvellement calculé donne le nouveau **état caché**."
   ],
   "metadata": {
    "collapsed": false
   },
   "id": "4ac36548f4cb093a"
  }
 ],
 "metadata": {
  "kernelspec": {
   "display_name": "Python 3",
   "language": "python",
   "name": "python3"
  },
  "language_info": {
   "codemirror_mode": {
    "name": "ipython",
    "version": 2
   },
   "file_extension": ".py",
   "mimetype": "text/x-python",
   "name": "python",
   "nbconvert_exporter": "python",
   "pygments_lexer": "ipython2",
   "version": "2.7.6"
  }
 },
 "nbformat": 4,
 "nbformat_minor": 5
}
