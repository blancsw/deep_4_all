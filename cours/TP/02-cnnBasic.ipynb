{
 "cells": [
  {
   "cell_type": "markdown",
   "id": "1e83a242b06ac9",
   "metadata": {
    "collapsed": false
   },
   "source": [
    "\n",
    "1. But de l'exercice : Votre objectif est de créer un simple réseau de neurones convolutifs (CNN) pour la classification d'images. Pour cet exercice, vous pouvez utiliser l'ensemble de données CIFAR-10 qui est une collection d'images de 10 classes différentes.\n",
    "2. Tâches :\n",
    "    - Faites un train de ce model sur GPU\n",
    "    - Modifier le CNN en ajoutant des couches suplémentaires\n",
    "    - Crée une séquence Conv2d --> BatchNorm2d --> ReLU\n",
    "    - Réalisez plusieurs entraînements avec des couches et des paramètres différents, puis comparez les résultats en utilisant `from sklearn.metrics import classification_report`.\n",
    "\n",
    "## Bonus\n",
    "\n",
    "### GoogLeNet: Un Aperçu Historique\n",
    "GoogLeNet est un modèle de réseau neuronal convolutif profond qui a été proposé par des chercheurs de Google, d'où son nom. Le modèle a été introduit pour la première fois en 2014 dans le papier de recherche intitulé \"[Going Deeper with Convolutions](https://arxiv.org/abs/1409.4842)\", et a remporté le défi de la classification visuelle d'ImageNet (ILSVRC) cette même année.\n",
    "Le modèle est plus particulièrement célèbre pour deux de ses caractéristiques uniques :\n",
    "\n",
    "\n",
    "### Inception Module :\n",
    "L'Inception Module est une micro-architecture novatrice (ou un \"bloc de construction\") pour les CNN. Il est basé sur une philosophie intelligente de conception de réseau qui interroge \"à quoi ressemblerait une bonne solution locale\" pour la conception de réseau.\n",
    "\n",
    "Le Module Inception a introduit l'idée d'avoir plusieurs opérations de convolution de différentes tailles (1x1, 3x3, 5x5) en parallèle dans un même niveau de l'architecture, permettant au CNN d'apprendre des caractéristiques à différentes échelles. Cela a également amené à une plus grande efficacité en termes de calcul.\n",
    "\n",
    "![inception](../asset/inception.png)\n",
    "\n",
    "### Profondeur du réseau :\n",
    "GoogLeNet a été l'un des premiers réseaux neuronaux profonds avec 22 couches de profondeur. En utilisant l'Inception Module et une grande profondeur, GoogLeNet a pu atteindre des performances élevées sur diverses tâches de vision par ordinateur, y compris la classification des images.\n",
    "Il convient de noter que même si GoogLeNet a lancé l'idée originale du Module Inception, de nombreuses variantes et améliorations ont été introduites depuis, telles que Inception-v2, Inception-v3 et Inception-v4, chacune améliorant les performances et l'efficacité de la précédente.\n",
    "\n",
    "![googlenet architecture](../asset/googlenet_architecture.png)\n",
    "\n",
    "Pour l'anecdote, ce modèle compte 25 millions de paramètres, en 2014 il était assser difficile pour l'utilisateur classique de le train  Maintenant, un LLM classique comme Mistral comporte 7 milliards de paramètres, ou comme ChatGPT-3.5 qui en compte 175 milliards !!!\n",
    "\n",
    "## Objectif\n",
    "\n",
    "Réalisez une version miniature de la couche Inception, puis ajoutez-la à votre réseau actuel.\n",
    "\n",
    "![convmodule](../asset/convmodule.png)\n",
    "\n",
    "![mini](../asset/inception_mini.png)"
   ]
  },
  {
   "cell_type": "code",
   "execution_count": 1,
   "id": "2172bb3ea07cbe24",
   "metadata": {
    "ExecuteTime": {
     "end_time": "2024-02-08T13:30:27.802713200Z",
     "start_time": "2024-02-08T13:30:26.336254300Z"
    },
    "collapsed": false
   },
   "outputs": [
    {
     "name": "stdout",
     "output_type": "stream",
     "text": [
      "Files already downloaded and verified\n",
      "Files already downloaded and verified\n"
     ]
    }
   ],
   "source": [
    "import torch.nn as nn\n",
    "import torch.optim as optim\n",
    "import torchvision\n",
    "import torchvision.transforms as transforms\n",
    "from torch.utils.data import DataLoader\n",
    "from torch.nn.functional import relu\n",
    "\n",
    "batch_size = 4\n",
    "\n",
    "# Load and normalize the CIFAR10 training and test datasets\n",
    "transform = transforms.Compose([transforms.ToTensor(), transforms.Normalize((0.5, 0.5, 0.5), (0.5, 0.5, 0.5))])\n",
    "trainset = torchvision.datasets.CIFAR10(root='./data', train=True, download=True, transform=transform)\n",
    "trainloader = DataLoader(trainset, batch_size=batch_size, shuffle=True, num_workers=2)\n",
    "testset = torchvision.datasets.CIFAR10(root='./data', train=False, download=True, transform=transform)\n",
    "testloader = DataLoader(testset, batch_size=batch_size, shuffle=False, num_workers=2)\n",
    "\n",
    "classes = ('airplane', 'automobile', 'bird', 'cat',\n",
    "           'deer', 'dog', 'frog', 'horse', 'ship', 'truck')"
   ]
  },
  {
   "cell_type": "code",
   "execution_count": 2,
   "id": "347c52ff78de364d",
   "metadata": {
    "ExecuteTime": {
     "end_time": "2024-02-08T11:14:58.046978400Z",
     "start_time": "2024-02-08T11:14:58.018491800Z"
    },
    "collapsed": false
   },
   "outputs": [
    {
     "data": {
      "text/plain": [
       "{'airplane': 0,\n",
       " 'automobile': 1,\n",
       " 'bird': 2,\n",
       " 'cat': 3,\n",
       " 'deer': 4,\n",
       " 'dog': 5,\n",
       " 'frog': 6,\n",
       " 'horse': 7,\n",
       " 'ship': 8,\n",
       " 'truck': 9}"
      ]
     },
     "execution_count": 2,
     "metadata": {},
     "output_type": "execute_result"
    }
   ],
   "source": [
    "trainset.class_to_idx"
   ]
  },
  {
   "cell_type": "code",
   "execution_count": 3,
   "id": "873db2a6de58d994",
   "metadata": {
    "ExecuteTime": {
     "end_time": "2024-02-08T11:15:09.700309500Z",
     "start_time": "2024-02-08T11:15:01.337644500Z"
    },
    "collapsed": false
   },
   "outputs": [
    {
     "data": {
      "image/png": "[encoded data removed]",
      "text/plain": [
       "<Figure size 640x480 with 1 Axes>"
      ]
     },
     "metadata": {},
     "output_type": "display_data"
    },
    {
     "name": "stdout",
     "output_type": "stream",
     "text": [
      "bird  deer  horse deer \n",
      "Shape torch.Size([4, 3, 32, 32])\n"
     ]
    }
   ],
   "source": [
    "import matplotlib.pyplot as plt\n",
    "import numpy as np\n",
    "\n",
    "def imshow(img):\n",
    "    # unnormalize\n",
    "    img = img / 2 + 0.5\n",
    "    npimg = img.numpy()\n",
    "    plt.imshow(np.transpose(npimg, (1, 2, 0)))\n",
    "    plt.show()\n",
    "\n",
    "\n",
    "# get some random training images\n",
    "dataiter = iter(trainloader)\n",
    "images, labels = next(dataiter)\n",
    "\n",
    "# show images\n",
    "imshow(torchvision.utils.make_grid(images))\n",
    "# print labels\n",
    "print(' '.join(f'{classes[labels[j]]:5s}' for j in range(batch_size)))\n",
    "\n",
    "# Batch, color chan, width, height\n",
    "print(\"Shape\", images.shape)"
   ]
  },
  {
   "cell_type": "code",
   "execution_count": 4,
   "id": "f3aca7b9dbe192f4",
   "metadata": {
    "ExecuteTime": {
     "end_time": "2024-02-08T11:15:40.888239600Z",
     "start_time": "2024-02-08T11:15:40.310992300Z"
    },
    "collapsed": false
   },
   "outputs": [
    {
     "name": "stdout",
     "output_type": "stream",
     "text": [
      "cuda\n"
     ]
    }
   ],
   "source": [
    "import torch\n",
    "device = torch.device(\"cuda\" if torch.cuda.is_available() else \"cpu\")\n",
    "print(device)"
   ]
  },
  {
   "cell_type": "code",
   "execution_count": 5,
   "id": "ba250d6b5ae06d39",
   "metadata": {
    "ExecuteTime": {
     "end_time": "2024-02-08T11:16:59.168292400Z",
     "start_time": "2024-02-08T11:15:44.716350Z"
    },
    "collapsed": false
   },
   "outputs": [
    {
     "name": "stdout",
     "output_type": "stream",
     "text": [
      "[1,  2000] loss: 2.169\n",
      "[1,  4000] loss: 1.803\n",
      "[1,  6000] loss: 1.664\n",
      "[1,  8000] loss: 1.573\n",
      "[1, 10000] loss: 1.515\n",
      "[1, 12000] loss: 1.465\n",
      "[2,  2000] loss: 1.385\n",
      "[2,  4000] loss: 1.370\n",
      "[2,  6000] loss: 1.324\n",
      "[2,  8000] loss: 1.314\n",
      "[2, 10000] loss: 1.287\n",
      "[2, 12000] loss: 1.295\n",
      "Finished Training\n"
     ]
    }
   ],
   "source": [
    "# Define a simple CNN\n",
    "class Net(nn.Module):\n",
    "    def __init__(self):\n",
    "        super(Net, self).__init__()\n",
    "        self.conv1 = nn.Conv2d(3, 6, 5)\n",
    "        self.pool = nn.MaxPool2d(2, 2)\n",
    "        self.conv2 = nn.Conv2d(6, 16, 5)\n",
    "        self.fc1 = nn.Linear(16 * 5 * 5, 120)\n",
    "        self.fc2 = nn.Linear(120, 84)\n",
    "        self.fc3 = nn.Linear(84, 10)\n",
    "\n",
    "    def forward(self, x):\n",
    "        x = self.pool(relu(self.conv1(x)))\n",
    "        x = self.pool(relu(self.conv2(x)))\n",
    "        x = x.view(-1, 16 * 5 * 5)\n",
    "        x = relu(self.fc1(x))\n",
    "        x = relu(self.fc2(x))\n",
    "        x = self.fc3(x)\n",
    "        return x\n",
    "\n",
    "\n",
    "# Create a Net\n",
    "net = Net()\n",
    "\n",
    "# Define Loss function and optimizer\n",
    "criterion = nn.CrossEntropyLoss()\n",
    "optimizer = optim.SGD(net.parameters(), lr=0.001, momentum=0.9)\n",
    "\n",
    "net.to(device)\n",
    "\n",
    "# Train the network\n",
    "for epoch in range(2):  # loop over the dataset multiple times\n",
    "    running_loss = 0.0\n",
    "    for i, data in enumerate(trainloader, 0):\n",
    "        # get the inputs; data is a list of [inputs, labels]\n",
    "        inputs, labels = data\n",
    "        inputs = inputs.to(device)\n",
    "        labels = labels.to(device)\n",
    "\n",
    "        # zero the parameter gradients\n",
    "        optimizer.zero_grad()\n",
    "\n",
    "        # forward + backward + optimize\n",
    "        outputs = net(inputs)\n",
    "        loss = criterion(outputs, labels)\n",
    "        loss.backward()\n",
    "        optimizer.step()\n",
    "\n",
    "        # print statistics\n",
    "        running_loss += loss.item()\n",
    "        if i % 2000 == 1999:  # print every 2000 mini-batches\n",
    "            print('[%d, %5d] loss: %.3f' % (epoch + 1, i + 1, running_loss / 2000))\n",
    "            running_loss = 0.0\n",
    "\n",
    "print('Finished Training')"
   ]
  },
  {
   "cell_type": "code",
   "execution_count": 6,
   "id": "1569b5d5ff64287b",
   "metadata": {
    "ExecuteTime": {
     "end_time": "2024-02-08T11:17:20.384708Z",
     "start_time": "2024-02-08T11:16:59.168292400Z"
    },
    "collapsed": false
   },
   "outputs": [
    {
     "data": {
      "application/vnd.jupyter.widget-view+json": {
       "model_id": "e490d5950a184fbb9e4540ade4d2af5c",
       "version_major": 2,
       "version_minor": 0
      },
      "text/plain": [
       "  0%|          | 0/2500 [00:06<?, ?it/s]"
      ]
     },
     "metadata": {},
     "output_type": "display_data"
    },
    {
     "name": "stdout",
     "output_type": "stream",
     "text": [
      "              precision    recall  f1-score   support\n",
      "\n",
      "           0       0.56      0.61      0.58      1000\n",
      "           1       0.74      0.56      0.64      1000\n",
      "           2       0.44      0.41      0.42      1000\n",
      "           3       0.43      0.26      0.33      1000\n",
      "           4       0.47      0.46      0.46      1000\n",
      "           5       0.44      0.59      0.50      1000\n",
      "           6       0.58      0.67      0.62      1000\n",
      "           7       0.61      0.64      0.62      1000\n",
      "           8       0.65      0.58      0.62      1000\n",
      "           9       0.59      0.67      0.63      1000\n",
      "\n",
      "    accuracy                           0.55     10000\n",
      "   macro avg       0.55      0.55      0.54     10000\n",
      "weighted avg       0.55      0.55      0.54     10000\n"
     ]
    }
   ],
   "source": [
    "from sklearn.metrics import classification_report\n",
    "from tqdm.auto import tqdm\n",
    "\n",
    "# Set the model in evaluation mode\n",
    "net.eval()\n",
    "\n",
    "true_labels = []\n",
    "predictions = []\n",
    "\n",
    "# Disabling gradient calculation\n",
    "with torch.no_grad():\n",
    "    for data in tqdm(testloader):\n",
    "        images, labels = data\n",
    "\n",
    "        # Send inputs to the device\n",
    "        images = images.to(device)\n",
    "        labels = labels.to(device)\n",
    "\n",
    "        # Forward pass\n",
    "        outputs = net(images)\n",
    "        predicted = torch.argmax(outputs.data, 1)\n",
    "        # Store results\n",
    "        true_labels.extend(labels.cpu().numpy())\n",
    "        predictions.extend(predicted.cpu().numpy())\n",
    "\n",
    "# Generate classification report\n",
    "report = classification_report(true_labels, predictions)\n",
    "print(report)"
   ]
  },
  {
   "cell_type": "code",
   "execution_count": 15,
   "id": "fe879490-0726-4ac6-8e8c-5c4bab2d6044",
   "metadata": {},
   "outputs": [
    {
     "name": "stdout",
     "output_type": "stream",
     "text": [
      "torch.Size([4, 6, 32, 32])\n"
     ]
    },
    {
     "data": {
      "text/plain": [
       "torch.Size([4, 14336])"
      ]
     },
     "execution_count": 15,
     "metadata": {},
     "output_type": "execute_result"
    }
   ],
   "source": [
    "import torch\n",
    "from torch.nn import Flatten\n",
    "conv1 = nn.Conv2d(3, 6, 1, padding=\"same\")\n",
    "conv2 = nn.Conv2d(3, 8, 3, padding=\"same\")\n",
    "\n",
    "res1 = conv1(images)\n",
    "res2 = conv2(images)\n",
    "\n",
    "print(res1.shape)\n",
    "Flatten()(torch.cat([res1, res2], dim=1)).shape"
   ]
  }
 ],
 "metadata": {
  "kernelspec": {
   "display_name": "Python 3 (ipykernel)",
   "language": "python",
   "name": "python3"
  },
  "language_info": {
   "codemirror_mode": {
    "name": "ipython",
    "version": 3
   },
   "file_extension": ".py",
   "mimetype": "text/x-python",
   "name": "python",
   "nbconvert_exporter": "python",
   "pygments_lexer": "ipython3",
   "version": "3.8.0"
  }
 },
 "nbformat": 4,
 "nbformat_minor": 5
}
