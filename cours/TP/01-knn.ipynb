{
 "cells": [
  {
   "cell_type": "markdown",
   "source": [
    "# TP en Traitement Automatique du Langage Naturel: Classification de Sentiments sur des Critiques de Films\n",
    "\n",
    "## Objectif\n",
    "L'objectif de ce TP est de développer un système de classification de sentiments utilisant des critiques de films. Vous utiliserez un ensemble de données IMDb et appliqueront un modèle K-Nearest Neighbors (KNN) pour classer les critiques en catégories positives ou négatives.\n",
    "\n",
    "## Partie 1: Traitement des Textes\n",
    "1. **Preprocess**: Appliquer un preprocess si besoin\n",
    "1. **Vectorisation**: Transformez les documents textuels en vecteurs numériques en utilisant `TfidfVectorizer`.\n",
    "\n",
    "## Partie 3: Modélisation\n",
    "1. **Construction du Modèle KNN**: Créez un modèle KNN\n",
    "2. **Entraînement du Modèle**: Entraînez le modèle sur l'ensemble d'entraînement.\n",
    "\n",
    "## Partie 4: Évaluation\n",
    "1. **Prédiction et Classification**: Utilisez le modèle pour prédire les sentiments sur l'ensemble de test.\n",
    "2. **Rapport de Classification**: Générez un rapport de classification pour évaluer la performance du modèle.\n",
    "\n",
    "## Questions\n",
    "1. Comment la réduction du nombre de caractéristiques (`max_features`) affecte-t-elle la performance du modèle ?\n",
    "2. Quel impact a le choix du nombre de voisins dans KNN sur les résultats ?\n",
    "3. Comparez les performances du modèle KNN avec un autre classificateur (par exemple, [Naive Bayes](https://scikit-learn.org/stable/modules/naive_bayes.html) ou [SVM](https://scikit-learn.org/stable/modules/generated/sklearn.svm.LinearSVC.html#sklearn.svm.LinearSVC). Lequel performe mieux et pourquoi ?\n",
    "4. Le preprocessing améliore t-il la clasification ?\n",
    "\n",
    "## Ressources\n",
    "- [IMDb Dataset](https://huggingface.co/datasets/imdb)\n",
    "- [Scikit-learn Documentation](https://scikit-learn.org/stable/)"
   ],
   "metadata": {
    "collapsed": false
   },
   "id": "f3520f4ff4b4f589"
  },
  {
   "cell_type": "code",
   "outputs": [],
   "source": [
    "!pip install -q -U datasets scikit-learn"
   ],
   "metadata": {
    "collapsed": false
   },
   "id": "15ccbdee81a84e54",
   "execution_count": null
  },
  {
   "cell_type": "code",
   "outputs": [
    {
     "name": "stderr",
     "output_type": "stream",
     "text": [
      "Using the latest cached version of the module from /home/blancsw/.cache/huggingface/modules/datasets_modules/datasets/imdb/d613c88cf8fa3bab83b4ded3713f1f74830d1100e171db75bbddb80b3345c9c0 (last modified on Wed Dec 20 10:48:44 2023) since it couldn't be found locally at imdb, or remotely on the Hugging Face Hub.\n"
     ]
    },
    {
     "data": {
      "text/plain": "Downloading data:   0%|          | 0.00/84.1M [00:00<?, ?B/s]",
      "application/vnd.jupyter.widget-view+json": {
       "version_major": 2,
       "version_minor": 0,
       "model_id": "61139a6373e746c7b16a7ffe56321746"
      }
     },
     "metadata": {},
     "output_type": "display_data"
    },
    {
     "data": {
      "text/plain": "Generating train split:   0%|          | 0/25000 [00:00<?, ? examples/s]",
      "application/vnd.jupyter.widget-view+json": {
       "version_major": 2,
       "version_minor": 0,
       "model_id": "56dd6a81a62d45c7a15ab3c3ac652741"
      }
     },
     "metadata": {},
     "output_type": "display_data"
    },
    {
     "data": {
      "text/plain": "Generating test split:   0%|          | 0/25000 [00:00<?, ? examples/s]",
      "application/vnd.jupyter.widget-view+json": {
       "version_major": 2,
       "version_minor": 0,
       "model_id": "1f3a7fb0845b4381b661be44cc60dfe7"
      }
     },
     "metadata": {},
     "output_type": "display_data"
    },
    {
     "data": {
      "text/plain": "Generating unsupervised split:   0%|          | 0/50000 [00:00<?, ? examples/s]",
      "application/vnd.jupyter.widget-view+json": {
       "version_major": 2,
       "version_minor": 0,
       "model_id": "7925de8748a14fbb90a1b5c87c701b26"
      }
     },
     "metadata": {},
     "output_type": "display_data"
    }
   ],
   "source": [
    "from datasets import load_dataset\n",
    "from sklearn.feature_extraction.text import TfidfVectorizer\n",
    "from sklearn.neighbors import KNeighborsClassifier\n",
    "from sklearn.metrics import classification_report\n",
    "\n",
    "# On split plusieur fois le dataset afin de réduire le temps de calcule\n",
    "dataset = load_dataset(\"imdb\", split=\"train\")\n",
    "dataset = dataset.train_test_split(stratify_by_column=\"label\", test_size=0.3, seed=42)\n",
    "dataset = dataset['train'].train_test_split(stratify_by_column=\"label\", test_size=0.3, seed=42)"
   ],
   "metadata": {
    "collapsed": false,
    "ExecuteTime": {
     "end_time": "2024-02-08T08:37:51.669366400Z",
     "start_time": "2024-02-08T08:31:05.393000700Z"
    }
   },
   "id": "9bf4b70f36e01ec2",
   "execution_count": 1
  },
  {
   "cell_type": "code",
   "outputs": [
    {
     "data": {
      "text/plain": "{0, 1}"
     },
     "execution_count": 4,
     "metadata": {},
     "output_type": "execute_result"
    }
   ],
   "source": [
    "set(dataset['train']['label'])"
   ],
   "metadata": {
    "collapsed": false,
    "ExecuteTime": {
     "end_time": "2024-02-08T08:45:05.681210Z",
     "start_time": "2024-02-08T08:45:05.600743400Z"
    }
   },
   "id": "c771147747d7f0be",
   "execution_count": 4
  },
  {
   "cell_type": "code",
   "outputs": [],
   "source": [
    "# Vectorization of text documents\n",
    "vectorizer = TfidfVectorizer(max_features=5000)\n",
    "X_train = vectorizer.fit_transform(dataset['train']['text'])\n",
    "X_test = vectorizer.transform(dataset['test']['text'])\n",
    "\n",
    "# KNN Classifier\n",
    "knn = KNeighborsClassifier(n_neighbors=3)\n",
    "knn.fit(X_train, dataset['train']['text'])\n",
    "\n",
    "# Test the classifier\n",
    "y_pred = knn.predict(X_test)\n",
    "\n",
    "print(classification_report(y_test, y_pred))"
   ],
   "metadata": {
    "collapsed": false
   },
   "id": "3775e39bb47f4b99"
  }
 ],
 "metadata": {
  "kernelspec": {
   "display_name": "Python 3",
   "language": "python",
   "name": "python3"
  },
  "language_info": {
   "codemirror_mode": {
    "name": "ipython",
    "version": 2
   },
   "file_extension": ".py",
   "mimetype": "text/x-python",
   "name": "python",
   "nbconvert_exporter": "python",
   "pygments_lexer": "ipython2",
   "version": "2.7.6"
  }
 },
 "nbformat": 4,
 "nbformat_minor": 5
}
