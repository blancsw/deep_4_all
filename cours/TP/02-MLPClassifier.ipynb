{
 "cells": [
  {
   "metadata": {},
   "cell_type": "markdown",
   "source": "",
   "id": "ea54b92cfd06fad9"
  },
  {
   "metadata": {},
   "cell_type": "markdown",
   "source": [
    "# TP : Entraînement d'un MLP - Classification des Sentiments sur des Critiques de Films\n",
    "**Multi-layer Perceptron – MLP**\n",
    "\n",
    "## Objectif\n",
    "Développer un modèle capable de classifier des critiques de films en deux catégories : **positives** ou **négatives**, en utilisant l'ensemble de données IMDb et un réseau multi-couches (**MLP**).\n",
    "\n",
    "---\n",
    "\n",
    "## Instructions\n",
    "1. **Adaptation du code existant :** Reprenez le code utilisé précédemment et modifiez-le pour inclure un réseau de neurones MLP.\n",
    "2. **Expérimentations :** Effectuez plusieurs entraînements en ajustant différents hyperparamètres (comme le nombre de couches, le nombre de neurones, la fonction d'activation, etc.).\n",
    "3. **Analyse des performances :** Mesurez et comparez les résultats pour évaluer l'impact des différents réglages.\n",
    "4. **Augmentation des données :** Augmentez la taille des ensembles d'entraînement et de test pour rendre la tâche plus complexe et observer l'évolution des performances.\n",
    "\n",
    "---\n",
    "\n",
    "## Ressources\n",
    "- Documentation MLP de scikit-learn : [MLPClassifier](https://scikit-learn.org/stable/modules/generated/sklearn.neural_network.MLPClassifier.html#mlpclassifier)"
   ],
   "id": "1c0003f1867e9f90"
  },
  {
   "metadata": {
    "collapsed": true,
    "ExecuteTime": {
     "end_time": "2025-01-31T16:53:18.833659Z",
     "start_time": "2025-01-31T16:53:16.679622Z"
    }
   },
   "cell_type": "code",
   "source": "!pip install -q -U datasets scikit-learn",
   "id": "initial_id",
   "outputs": [
    {
     "name": "stdout",
     "output_type": "stream",
     "text": [
      "\u001B[33mWARNING: Running pip as the 'root' user can result in broken permissions and conflicting behaviour with the system package manager, possibly rendering your system unusable. It is recommended to use a virtual environment instead: https://pip.pypa.io/warnings/venv. Use the --root-user-action option if you know what you are doing and want to suppress this warning.\u001B[0m\u001B[33m\r\n",
      "\u001B[0m"
     ]
    }
   ],
   "execution_count": 1
  },
  {
   "metadata": {
    "ExecuteTime": {
     "end_time": "2025-01-31T16:53:35.952439Z",
     "start_time": "2025-01-31T16:53:18.842938Z"
    }
   },
   "cell_type": "code",
   "source": [
    "from datasets import load_dataset\n",
    "# Chargement du dataset \"imdb\" depuis HuggingFace\n",
    "raw_dataset = load_dataset(\"imdb\", split=\"train\")\n",
    "\n",
    "# Split stratifié 50/50\n",
    "dataset = raw_dataset.train_test_split(stratify_by_column=\"label\", test_size=0.5, seed=42)\n",
    "train_dataset = dataset[\"train\"]\n",
    "test_dataset = dataset[\"test\"]\n",
    "\n",
    "print(\"Nombre d'échantillons dans le train set :\", len(train_dataset))\n",
    "print(\"Nombre d'échantillons dans le test set  :\", len(test_dataset))"
   ],
   "id": "d1b7a9bb2d905f4",
   "outputs": [
    {
     "data": {
      "text/plain": [
       "README.md:   0%|          | 0.00/7.81k [00:00<?, ?B/s]"
      ],
      "application/vnd.jupyter.widget-view+json": {
       "version_major": 2,
       "version_minor": 0,
       "model_id": "905d6ed504ff4203bfa663a6d3581b0c"
      }
     },
     "metadata": {},
     "output_type": "display_data"
    },
    {
     "data": {
      "text/plain": [
       "train-00000-of-00001.parquet:   0%|          | 0.00/21.0M [00:00<?, ?B/s]"
      ],
      "application/vnd.jupyter.widget-view+json": {
       "version_major": 2,
       "version_minor": 0,
       "model_id": "f6da331781c64ad6bafa16626db336e6"
      }
     },
     "metadata": {},
     "output_type": "display_data"
    },
    {
     "data": {
      "text/plain": [
       "test-00000-of-00001.parquet:   0%|          | 0.00/20.5M [00:00<?, ?B/s]"
      ],
      "application/vnd.jupyter.widget-view+json": {
       "version_major": 2,
       "version_minor": 0,
       "model_id": "7649b67db38f428d8dfacaa3ca83377c"
      }
     },
     "metadata": {},
     "output_type": "display_data"
    },
    {
     "data": {
      "text/plain": [
       "unsupervised-00000-of-00001.parquet:   0%|          | 0.00/42.0M [00:00<?, ?B/s]"
      ],
      "application/vnd.jupyter.widget-view+json": {
       "version_major": 2,
       "version_minor": 0,
       "model_id": "3e129ed5a1fe40eab75c13de42e89a28"
      }
     },
     "metadata": {},
     "output_type": "display_data"
    },
    {
     "data": {
      "text/plain": [
       "Generating train split:   0%|          | 0/25000 [00:00<?, ? examples/s]"
      ],
      "application/vnd.jupyter.widget-view+json": {
       "version_major": 2,
       "version_minor": 0,
       "model_id": "e874aeccb9d841a3a698f013ed8d3dba"
      }
     },
     "metadata": {},
     "output_type": "display_data"
    },
    {
     "data": {
      "text/plain": [
       "Generating test split:   0%|          | 0/25000 [00:00<?, ? examples/s]"
      ],
      "application/vnd.jupyter.widget-view+json": {
       "version_major": 2,
       "version_minor": 0,
       "model_id": "fb3ae2177a764ba7819c6f7f69494ce5"
      }
     },
     "metadata": {},
     "output_type": "display_data"
    },
    {
     "data": {
      "text/plain": [
       "Generating unsupervised split:   0%|          | 0/50000 [00:00<?, ? examples/s]"
      ],
      "application/vnd.jupyter.widget-view+json": {
       "version_major": 2,
       "version_minor": 0,
       "model_id": "688c43a59dd544069aba4b70dd81bd5e"
      }
     },
     "metadata": {},
     "output_type": "display_data"
    },
    {
     "name": "stdout",
     "output_type": "stream",
     "text": [
      "Nombre d'échantillons dans le train set : 12500\n",
      "Nombre d'échantillons dans le test set  : 12500\n"
     ]
    }
   ],
   "execution_count": 2
  },
  {
   "metadata": {
    "ExecuteTime": {
     "end_time": "2025-01-31T16:53:46.996627Z",
     "start_time": "2025-01-31T16:53:46.991426Z"
    }
   },
   "cell_type": "code",
   "source": [
    "print(\"Exemple de review :\", train_dataset[0][\"text\"][:300], \"...\")\n",
    "print(\"Label (0 = négatif, 1 = positif) :\", train_dataset[0][\"label\"])"
   ],
   "id": "dcb39f1e6a733c05",
   "outputs": [
    {
     "name": "stdout",
     "output_type": "stream",
     "text": [
      "Exemple de review : I really enjoyed the performances of the main cast. Emma Lung is courageous and interesting. The director has developed performances where the characters are not one dimensional. A complex story with the changing between eras. Also appreciated the underlying story of the unions losing power and the  ...\n",
      "Label (0 = négatif, 1 = positif) : 1\n"
     ]
    }
   ],
   "execution_count": 3
  },
  {
   "metadata": {},
   "cell_type": "code",
   "outputs": [],
   "execution_count": null,
   "source": [
    "from sklearn.neural_network import MLPClassifier\n",
    "# Doc: https://scikit-learn.org/stable/modules/generated/sklearn.neural_network.MLPClassifier.html#mlpclassifier"
   ],
   "id": "ed3dc2d8b0283da1"
  }
 ],
 "metadata": {
  "kernelspec": {
   "display_name": "Python 3",
   "language": "python",
   "name": "python3"
  },
  "language_info": {
   "codemirror_mode": {
    "name": "ipython",
    "version": 2
   },
   "file_extension": ".py",
   "mimetype": "text/x-python",
   "name": "python",
   "nbconvert_exporter": "python",
   "pygments_lexer": "ipython2",
   "version": "2.7.6"
  }
 },
 "nbformat": 4,
 "nbformat_minor": 5
}
