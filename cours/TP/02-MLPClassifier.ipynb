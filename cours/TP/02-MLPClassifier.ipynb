{
 "cells": [
  {
   "metadata": {},
   "cell_type": "markdown",
   "source": "",
   "id": "ea54b92cfd06fad9"
  },
  {
   "metadata": {},
   "cell_type": "markdown",
   "source": [
    "# TP : Entraînement d'un MLP - Classification des Sentiments sur des Critiques de Films\n",
    "**Multi-layer Perceptron – MLP**\n",
    "\n",
    "## Objectif\n",
    "Développer un modèle capable de classifier des critiques de films en deux catégories : **positives** ou **négatives**, en utilisant l'ensemble de données IMDb et un réseau multi-couches (**MLP**).\n",
    "\n",
    "---\n",
    "\n",
    "## Instructions\n",
    "1. **Adaptation du code existant :** Adapter le code afin de train un model [MLP](https://scikit-learn.org/stable/modules/generated/sklearn.neural_network.MLPClassifier.html#mlpclassifier)\n",
    "2. **Expérimentations :** Effectuez plusieurs entraînements en ajustant différents hyperparamètres (comme le nombre de couches, le nombre de neurones, etc.).\n",
    "3. **Analyse des performances :** Mesurez et comparez les résultats pour évaluer l'impact des différents réglages.\n",
    "4. **Netoyage**: Tester avec un nettoyage des données comme réaliser avec spacy\n",
    "4. **Augmentation des données :** Augmentez la taille des ensembles d'entraînement et de test pour rendre la tâche plus complexe et observer l'évolution des performances.\n",
    "\n",
    "---\n",
    "\n",
    "## Ressources\n",
    "- Documentation MLP de scikit-learn : [MLPClassifier](https://scikit-learn.org/stable/modules/generated/sklearn.neural_network.MLPClassifier.html#mlpclassifier)"
   ],
   "id": "1c0003f1867e9f90"
  },
  {
   "metadata": {
    "collapsed": true
   },
   "cell_type": "code",
   "source": [
    "!pip install -q -U datasets scikit-learn spacy\n",
    "!python -m spacy download en_core_web_sm"
   ],
   "id": "initial_id",
   "outputs": [],
   "execution_count": null
  },
  {
   "metadata": {},
   "cell_type": "code",
   "source": [
    "from datasets import load_dataset\n",
    "\n",
    "# Chargement du dataset \"imdb\" depuis HuggingFace\n",
    "raw_dataset = load_dataset(\"imdb\", split=\"train\")\n",
    "\n",
    "# Split stratifié 50/50\n",
    "dataset = raw_dataset.train_test_split(stratify_by_column=\"label\", test_size=0.5, seed=42)\n",
    "train_dataset = dataset[\"train\"]\n",
    "test_dataset = dataset[\"test\"]\n",
    "\n",
    "print(\"Nombre d'échantillons dans le train set :\", len(train_dataset))\n",
    "print(\"Nombre d'échantillons dans le test set  :\", len(test_dataset))"
   ],
   "id": "d1b7a9bb2d905f4",
   "outputs": [],
   "execution_count": null
  },
  {
   "metadata": {},
   "cell_type": "code",
   "source": [
    "print(\"Exemple de review :\", train_dataset[0][\"text\"][:300], \"...\")\n",
    "print(\"Label (0 = négatif, 1 = positif) :\", train_dataset[0][\"label\"])"
   ],
   "id": "dcb39f1e6a733c05",
   "outputs": [],
   "execution_count": null
  },
  {
   "metadata": {},
   "cell_type": "code",
   "source": [
    "# Préparation des données : extraction des textes et des labels\n",
    "X_train = train_dataset[\"text\"]\n",
    "y_train = train_dataset[\"label\"]\n",
    "X_test = test_dataset[\"text\"]\n",
    "y_test = test_dataset[\"label\"]"
   ],
   "id": "74b44b028de3bd57",
   "outputs": [],
   "execution_count": null
  },
  {
   "metadata": {},
   "cell_type": "code",
   "source": [
    "from sklearn.metrics import classification_report\n",
    "from sklearn.pipeline import Pipeline\n",
    "from sklearn.feature_extraction.text import TfidfVectorizer\n",
    "\n",
    "pipeline = Pipeline([\n",
    "    ('tfidf', TfidfVectorizer(max_features=10000)),  # Limite le nombre de features pour réduire la dimensionnalité\n",
    "    # Doc: https://scikit-learn.org/stable/modules/generated/sklearn.neural_network.MLPClassifier.html#mlpclassifier\n",
    "    ('mlp', pass)  # TODO\n",
    "    ])\n",
    "\n",
    "# Entraînement du modèle\n",
    "print(\"Entraînement du modèle...\")\n",
    "pipeline.fit(X_train, y_train)\n",
    "\n",
    "# Prédictions sur le jeu de test\n",
    "predictions = pipeline.predict(X_test)\n",
    "\n",
    "# Évaluation du modèle à l'aide de classification_report\n",
    "print(\"Rapport de classification sur le jeu de test:\")\n",
    "print(classification_report(y_test, predictions, target_names=[\"négatif\", \"positif\"]))"
   ],
   "id": "ed3dc2d8b0283da1",
   "outputs": [],
   "execution_count": null
  }
 ],
 "metadata": {
  "kernelspec": {
   "display_name": "Python 3",
   "language": "python",
   "name": "python3"
  },
  "language_info": {
   "codemirror_mode": {
    "name": "ipython",
    "version": 2
   },
   "file_extension": ".py",
   "mimetype": "text/x-python",
   "name": "python",
   "nbconvert_exporter": "python",
   "pygments_lexer": "ipython2",
   "version": "2.7.6"
  }
 },
 "nbformat": 4,
 "nbformat_minor": 5
}
