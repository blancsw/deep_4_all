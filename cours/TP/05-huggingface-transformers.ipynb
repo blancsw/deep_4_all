{
 "cells": [
  {
   "cell_type": "markdown",
   "source": [
    "# Mini Projet Transformers\n",
    "\n",
    "## Contexte :\n",
    "\n",
    "L'objectif de ce mini projet sera de fine-tuner un modèle basé sur la transformer layer de votre choix (BERT, GPT2, etc.) sur un jeu de données qui vous plaira.\n",
    "\n",
    "Privilégiez des tâches faciles à entraîner, telles que :\n",
    "- Classification: [Notebook example](https://huggingface.co/docs/transformers/tasks/sequence_classification)\n",
    "- Traduction seq2seq: [Notebook exemple](https://huggingface.co/docs/transformers/tasks/translation)\n",
    "\n",
    "Si vous voulez réaliser de la génération de texte, comme prompt to code generation, vous devrez utiliser des datasets adaptés ainsi que cette librairie : [librairie](https://huggingface.co/docs/trl/sft_trainer). Exemple [notebook](https://github.com/brevdev/notebooks/blob/main/mistral-finetune.ipynb)\n",
    "\n",
    "## Objectifs :\n",
    "\n",
    "1. **Choix du dataset :**\n",
    "\n",
    "    Sélectionner un jeu de données qui vous plaira. Vous pouvez fouiller [ici](https://huggingface.co/datasets)\n",
    "\n",
    "2. **Choix du modèle :**\n",
    "\n",
    "    En fonction du dataset choisi, prenez un modèle disponible dans le hub Hugging Face [HuggingFace Hub](https://huggingface.co/models)\n",
    "\n",
    "3. **Validation**\n",
    "\n",
    "    Avant de commencer, faites-moi valider vos choix afin de vous guider et d'assurer que vous ne partez pas dans un projet trop complexe.\n",
    "\n",
    "4. **Partagez votre modèle**\n",
    "\n",
    "    Partagez le modèle que vous avez fine-tuned sur le hub Hugging Face [HuggingFace Model Hub](https://huggingface.co/learn/nlp-course/chapter4/3?fw=pt)\n",
    "\n",
    "5. **Serving du modèle**\n",
    "\n",
    "    Maintenant, vous pouvez déployer votre modèle via un système de serving. Vous pouvez utiliser [torchserve](https://pytorch.org/serve/)\n",
    "\n",
    "## Ressources :\n",
    "\n",
    "- [PyTorch](<https://pytorch.org/>)\n",
    "- [Librairie `datasets`](https://huggingface.co/docs/datasets/)\n",
    "- [Librairie `transformers`](https://huggingface.co/docs/transformers/index)\n",
    "- [Librairie `trl` pour de la génération de texte](https://huggingface.co/docs/trl)\n",
    "- [torchserve](https://pytorch.org/serve/)\n",
    "\n",
    "## Bonne chance !"
   ],
   "metadata": {
    "collapsed": false
   },
   "id": "9262641b1de01de1"
  }
 ],
 "metadata": {
  "kernelspec": {
   "display_name": "Python 3",
   "language": "python",
   "name": "python3"
  },
  "language_info": {
   "codemirror_mode": {
    "name": "ipython",
    "version": 2
   },
   "file_extension": ".py",
   "mimetype": "text/x-python",
   "name": "python",
   "nbconvert_exporter": "python",
   "pygments_lexer": "ipython2",
   "version": "2.7.6"
  }
 },
 "nbformat": 4,
 "nbformat_minor": 5
}
