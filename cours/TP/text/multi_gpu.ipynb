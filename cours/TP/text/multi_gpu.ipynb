{
 "cells": [
  {
   "cell_type": "code",
   "execution_count": 1,
   "id": "37073dba",
   "metadata": {
    "execution": {
     "iopub.execute_input": "2025-02-09T10:37:40.740875Z",
     "iopub.status.busy": "2025-02-09T10:37:40.740592Z",
     "iopub.status.idle": "2025-02-09T10:38:12.375019Z",
     "shell.execute_reply": "2025-02-09T10:38:12.374182Z"
    },
    "papermill": {
     "duration": 31.639388,
     "end_time": "2025-02-09T10:38:12.376686",
     "exception": false,
     "start_time": "2025-02-09T10:37:40.737298",
     "status": "completed"
    },
    "tags": []
   },
   "outputs": [
    {
     "name": "stdout",
     "output_type": "stream",
     "text": [
      "\u001B[2K     \u001B[90m━━━━━━━━━━━━━━━━━━━━━━━━━━━━━━━━━━━━━━━━\u001B[0m \u001B[32m44.4/44.4 kB\u001B[0m \u001B[31m2.3 MB/s\u001B[0m eta \u001B[36m0:00:00\u001B[0m\r\n",
      "\u001B[2K   \u001B[90m━━━━━━━━━━━━━━━━━━━━━━━━━━━━━━━━━━━━━━━━\u001B[0m \u001B[32m336.6/336.6 kB\u001B[0m \u001B[31m11.8 MB/s\u001B[0m eta \u001B[36m0:00:00\u001B[0m\r\n",
      "\u001B[2K   \u001B[90m━━━━━━━━━━━━━━━━━━━━━━━━━━━━━━━━━━━━━━━━\u001B[0m \u001B[32m9.7/9.7 MB\u001B[0m \u001B[31m102.4 MB/s\u001B[0m eta \u001B[36m0:00:00\u001B[0m\r\n",
      "\u001B[2K   \u001B[90m━━━━━━━━━━━━━━━━━━━━━━━━━━━━━━━━━━━━━━━━\u001B[0m \u001B[32m313.9/313.9 kB\u001B[0m \u001B[31m21.5 MB/s\u001B[0m eta \u001B[36m0:00:00\u001B[0m\r\n",
      "\u001B[2K   \u001B[90m━━━━━━━━━━━━━━━━━━━━━━━━━━━━━━━━━━━━━━━━\u001B[0m \u001B[32m20.9/20.9 MB\u001B[0m \u001B[31m76.0 MB/s\u001B[0m eta \u001B[36m0:00:00\u001B[0m\r\n",
      "\u001B[2K   \u001B[90m━━━━━━━━━━━━━━━━━━━━━━━━━━━━━━━━━━━━━━━━\u001B[0m \u001B[32m69.7/69.7 MB\u001B[0m \u001B[31m25.2 MB/s\u001B[0m eta \u001B[36m0:00:00\u001B[0m\r\n",
      "\u001B[?25h"
     ]
    }
   ],
   "source": [
    "!pip install -q -U accelerate datasets peft transformers trl wandb bitsandbytes"
   ]
  },
  {
   "cell_type": "code",
   "execution_count": 2,
   "id": "53a79bbe",
   "metadata": {
    "execution": {
     "iopub.execute_input": "2025-02-09T10:38:12.384446Z",
     "iopub.status.busy": "2025-02-09T10:38:12.384219Z"
    },
    "papermill": {
     "duration": 4.008334,
     "end_time": "2025-02-09T10:38:16.388670",
     "exception": false,
     "start_time": "2025-02-09T10:38:12.380336",
     "status": "completed"
    },
    "tags": []
   },
   "outputs": [],
   "source": [
    "import os\n",
    "from accelerate.utils import write_basic_config\n",
    "\n",
    "# Écrit un fichier de configuration basique pour la bibliothèque \"accelerate\".\n",
    "# Cette étape est généralement utilisée pour initialiser ou réinitialiser la configuration par défaut\n",
    "# et peut inclure des paramètres pour gérer l'utilisation de matériel comme les GPUs et TPUs.\n",
    "write_basic_config()\n",
    "\n",
    "# Redémarre le carnet Jupyter immédiatement après l'écriture de la configuration.\n",
    "# La méthode `os._exit()` force l'arrêt du processus Python avec le code de sortie 0 (succès).\n",
    "# Cela est nécessaire pour que la configuration soit rechargée quand le carnet est relancé.\n",
    "os._exit(0)"
   ]
  },
  {
   "cell_type": "code",
   "execution_count": null,
   "id": "b168eeb9",
   "metadata": {
    "execution": {
     "iopub.execute_input": "2025-02-09T10:17:22.464365Z",
     "iopub.status.busy": "2025-02-09T10:17:22.464077Z",
     "iopub.status.idle": "2025-02-09T10:17:22.584796Z",
     "shell.execute_reply": "2025-02-09T10:17:22.583740Z",
     "shell.execute_reply.started": "2025-02-09T10:17:22.464342Z"
    },
    "papermill": {
     "duration": null,
     "end_time": null,
     "exception": null,
     "start_time": null,
     "status": "completed"
    },
    "tags": []
   },
   "outputs": [],
   "source": [
    "# accelerate default config path\n",
    "!cat ~/.cache/huggingface/accelerate/default_config.yaml"
   ]
  },
  {
   "cell_type": "code",
   "execution_count": null,
   "id": "d431d0c7",
   "metadata": {
    "execution": {
     "iopub.execute_input": "2025-02-09T10:25:02.868783Z",
     "iopub.status.busy": "2025-02-09T10:25:02.868404Z",
     "iopub.status.idle": "2025-02-09T10:25:03.091960Z",
     "shell.execute_reply": "2025-02-09T10:25:03.091007Z",
     "shell.execute_reply.started": "2025-02-09T10:25:02.868754Z"
    },
    "papermill": {
     "duration": null,
     "end_time": null,
     "exception": null,
     "start_time": null,
     "status": "completed"
    },
    "tags": []
   },
   "outputs": [],
   "source": [
    "!nvidia-smi"
   ]
  },
  {
   "cell_type": "markdown",
   "id": "8a7d1091",
   "metadata": {
    "papermill": {
     "duration": null,
     "end_time": null,
     "exception": null,
     "start_time": null,
     "status": "completed"
    },
    "tags": []
   },
   "source": [
    "# Wandb\n",
    "\n",
    "Creat token and account: https://wandb.ai/home"
   ]
  },
  {
   "cell_type": "code",
   "execution_count": null,
   "id": "c10b9687",
   "metadata": {
    "execution": {
     "iopub.execute_input": "2025-02-09T10:17:25.997787Z",
     "iopub.status.busy": "2025-02-09T10:17:25.997339Z",
     "iopub.status.idle": "2025-02-09T10:18:39.084450Z",
     "shell.execute_reply": "2025-02-09T10:18:39.083787Z",
     "shell.execute_reply.started": "2025-02-09T10:17:25.997748Z"
    },
    "papermill": {
     "duration": null,
     "end_time": null,
     "exception": null,
     "start_time": null,
     "status": "completed"
    },
    "tags": []
   },
   "outputs": [],
   "source": [
    "import wandb\n",
    "import getpass\n",
    "\n",
    "token = getpass.getpass()\n",
    "wandb.login(key=token)"
   ]
  },
  {
   "metadata": {},
   "cell_type": "markdown",
   "source": [
    "# Utiliser Accelerate avec plusieurs GPUs\n",
    "\n",
    "Pour utiliser **Accelerate** sur plusieurs GPUs, la méthode la plus simple consiste à créer un script d'entraînement, puis à le lancer en utilisant la commande `accelerate launch`."
   ],
   "id": "4585662be28bc1ee"
  },
  {
   "cell_type": "code",
   "execution_count": null,
   "id": "eb3070e0",
   "metadata": {
    "execution": {
     "iopub.execute_input": "2025-02-09T10:29:59.864743Z",
     "iopub.status.busy": "2025-02-09T10:29:59.864363Z",
     "iopub.status.idle": "2025-02-09T10:30:00.171917Z",
     "shell.execute_reply": "2025-02-09T10:30:00.170999Z",
     "shell.execute_reply.started": "2025-02-09T10:29:59.864714Z"
    },
    "papermill": {
     "duration": null,
     "end_time": null,
     "exception": null,
     "start_time": null,
     "status": "completed"
    },
    "tags": []
   },
   "outputs": [],
   "source": [
    "!wget -O sft_train.py https://raw.githubusercontent.com/blancsw/deep_4_all/refs/heads/main/cours/TP/text/sft_train.py"
   ]
  },
  {
   "cell_type": "code",
   "execution_count": null,
   "id": "5e63a4e8",
   "metadata": {
    "execution": {
     "iopub.execute_input": "2025-02-09T10:30:03.623851Z",
     "iopub.status.busy": "2025-02-09T10:30:03.623456Z",
     "iopub.status.idle": "2025-02-09T10:37:21.817826Z",
     "shell.execute_reply": "2025-02-09T10:37:21.816695Z",
     "shell.execute_reply.started": "2025-02-09T10:30:03.623807Z"
    },
    "papermill": {
     "duration": null,
     "end_time": null,
     "exception": null,
     "start_time": null,
     "status": "completed"
    },
    "tags": []
   },
   "outputs": [],
   "source": [
    "!accelerate launch sft_train.py"
   ]
  }
 ],
 "metadata": {
  "kaggle": {
   "accelerator": "nvidiaTeslaT4",
   "dataSources": [],
   "dockerImageVersionId": 30887,
   "isGpuEnabled": true,
   "isInternetEnabled": true,
   "language": "python",
   "sourceType": "notebook"
  },
  "kernelspec": {
   "display_name": "Python 3",
   "language": "python",
   "name": "python3"
  },
  "language_info": {
   "codemirror_mode": {
    "name": "ipython",
    "version": 3
   },
   "file_extension": ".py",
   "mimetype": "text/x-python",
   "name": "python",
   "nbconvert_exporter": "python",
   "pygments_lexer": "ipython3",
   "version": "3.10.12"
  },
  "papermill": {
   "default_parameters": {},
   "duration": 38.354957,
   "end_time": "2025-02-09T10:38:16.393632",
   "environment_variables": {},
   "exception": null,
   "input_path": "__notebook__.ipynb",
   "output_path": "__notebook__.ipynb",
   "parameters": {},
   "start_time": "2025-02-09T10:37:38.038675",
   "version": "2.6.0"
  }
 },
 "nbformat": 4,
 "nbformat_minor": 5
}
